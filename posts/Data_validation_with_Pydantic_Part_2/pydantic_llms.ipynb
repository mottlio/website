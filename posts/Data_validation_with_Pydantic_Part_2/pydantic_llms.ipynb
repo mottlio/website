{
 "cells": [
  {
   "cell_type": "raw",
   "id": "8532c78e",
   "metadata": {
    "vscode": {
     "languageId": "raw"
    }
   },
   "source": [
    "---\n",
    "title: \"Pydantic for LLM requests - Part 2\"\n",
    "subtitle: \"Are there advantages of using the Pydantic package to obtain structured data from LLMs compared to just politely asking for JSON in the prompt?\"\n",
    "date: '2025-03-04'\n",
    "categories: ['Python', 'Pydantic', 'Data Validation', 'LLMs']\n",
    "format:\n",
    "  html:\n",
    "    code-fold: true\n",
    "    code-summary: \"Show code\"\n",
    "    code-tools: true\n",
    "    panel: tabset\n",
    "    renderings: dark\n",
    "    comments:\n",
    "      utterances:\n",
    "        repo: mottlio/using_pydantic_with_llms\n",
    "---\n"
   ]
  },
  {
   "cell_type": "markdown",
   "id": "3d4ac9e0",
   "metadata": {},
   "source": [
    "# Validating LLM responses with Pydantic\n",
    "\n",
    "I've come accross Pydantic when looking for better ways to validate data when working with LLMs. I've found that while asking for JSON output in the LLM prompt mostly works fine, sometimes it does not. This creates problems when attempting any kind of automation. Here, I'm using Pydantic to test the response from an LLM model. I'll experiment with a method which, when validation errors are encountered using Pydantic, sends a new request to the LLM API containing error details from Pydantic in the prompt. When creating this retry function, it's important to cap the number of attempts - otherwise costs can potentially quickly escalate.😃\n",
    "\n",
    "In this article, I'll experiment with the OpenAI API. "
   ]
  },
  {
   "cell_type": "code",
   "execution_count": null,
   "id": "25f7c85e",
   "metadata": {},
   "outputs": [],
   "source": [
    "#\\ code-summary: \"Load libraries and initialize OpenAI API client\"\n",
    "\n",
    "# Import necessary packages\n",
    "from pydantic import BaseModel, ValidationError, Field, EmailStr\n",
    "from typing import List, Literal, Optional\n",
    "import json\n",
    "from datetime import date\n",
    "# Load environment variables from a .env file - using the dotenv library - that is where the OpenAI API key is stored\n",
    "from dotenv import load_dotenv\n",
    "import openai\n",
    "\n",
    "# Load environment variables from a .env file\n",
    "load_dotenv()\n",
    "#Initlalize OpenAI API key\n",
    "#openai.api_key = os.getenv(\"OPENAI_API_KEY\")\n",
    "client = openai.OpenAI()"
   ]
  },
  {
   "cell_type": "markdown",
   "id": "4cef3fa0",
   "metadata": {
    "vscode": {
     "languageId": "markdown"
    }
   },
   "source": [
    "In the next step, I'll demonstrate how to use Pydantic models to validate and structure responses from LLMs. By parsing the LLM output with a Pydantic model, I can quickly identify formatting or data issues and provide targeted feedback for retries. This approach helps ensure that the data returned by the LLM is both reliable and ready for downstream automation or analysis."
   ]
  },
  {
   "cell_type": "code",
   "execution_count": 15,
   "id": "2f7fc407",
   "metadata": {},
   "outputs": [],
   "source": [
    "#Create a sample user input\n",
    "user_input_json = '''\n",
    "{\n",
    "    \"name\": \"Jan Uzytkownik\",\n",
    "    \"email\": \"jan.uzytkownik@example.com\",\n",
    "    \"query\": \"I forgot my password. Treat this very urgently please.\",\n",
    "    \"order_number\": null,\n",
    "    \"purchase_date\": null\n",
    "}\n",
    "'''"
   ]
  },
  {
   "cell_type": "markdown",
   "id": "8b57cf24",
   "metadata": {
    "vscode": {
     "languageId": "markdown"
    }
   },
   "source": [
    "I'll first define a Pydantic model for the User Input."
   ]
  },
  {
   "cell_type": "code",
   "execution_count": null,
   "id": "cfd2b5ef",
   "metadata": {},
   "outputs": [],
   "source": [
    "#| code-summary: \"Define the Pydantic model for validation\"\n",
    "\n",
    "# Defne the Pydantic model for validation\n",
    "class UserInput(BaseModel):\n",
    "    name: str\n",
    "    email: EmailStr\n",
    "    query: str\n",
    "    order_id: Optional[int] = Field(\n",
    "        None,\n",
    "        description=\"5-digit order number (cannot start with 0)\",\n",
    "        ge=10000,\n",
    "        le=99999\n",
    "    )\n",
    "    transaction_date: Optional[date] = None"
   ]
  },
  {
   "cell_type": "code",
   "execution_count": null,
   "id": "d236f9c4",
   "metadata": {},
   "outputs": [
    {
     "name": "stdout",
     "output_type": "stream",
     "text": [
      "User input is valid: name='Jan Uzytkownik' email='jan.uzytkownik@example.com' query='I forgot my password. Treat this very urgently please.' order_id=None transaction_date=None\n"
     ]
    },
    {
     "name": "stderr",
     "output_type": "stream",
     "text": [
      "/var/folders/g9/l7t9y9813fjggxq0lycxgg4c0000gp/T/ipykernel_50383/1808375781.py:3: PydanticDeprecatedSince20: The `parse_raw` method is deprecated; if your data is JSON use `model_validate_json`, otherwise load the data then use `model_validate` instead. Deprecated in Pydantic V2.0 to be removed in V3.0. See Pydantic V2 Migration Guide at https://errors.pydantic.dev/2.11/migration/\n",
      "  user_input = UserInput.parse_raw(user_input_json)\n"
     ]
    }
   ],
   "source": [
    "#| code-summary: \"Validate sample user input using the Pydantic model\"\n",
    "\n",
    "#Create an instance of the model using the sample user input\n",
    "try:\n",
    "    user_input = UserInput.parse_raw(user_input_json)\n",
    "    print(\"User input is valid:\", user_input)\n",
    "except ValidationError as e:\n",
    "    print(\"Validation error:\", e.json())"
   ]
  },
  {
   "cell_type": "markdown",
   "id": "5336c494",
   "metadata": {
    "vscode": {
     "languageId": "javascript"
    }
   },
   "source": [
    "Next, I'll demonstrate how to extend the initial Pydantic model to handle more complex user queries. By creating a new model that inherits from the original, I can add fields such as department, category, priority, and tags. This allows for more granular validation and routing of user requests, which is especially useful when automating support workflows or categorizing incoming queries for downstream processing. "
   ]
  },
  {
   "cell_type": "code",
   "execution_count": null,
   "id": "74ab5ebf",
   "metadata": {},
   "outputs": [],
   "source": [
    "#| code-fold: false\n",
    "#Define a new CustomerQuery model that inherits from UserInput\n",
    "class CustomerQuery(UserInput):\n",
    "    department: str = Field(..., description=\"Department to route the query to\")\n",
    "    category: Literal['billing', 'technical', 'general'] = Field(..., description=\"Category of the query - billing, technical, or general\")\n",
    "    priority: Literal['low', 'medium', 'high'] = Field(..., description=\"Priority level of the query\")\n",
    "    tags: Optional[List[str]] = Field(..., max_items=5, description=\"Up to 5 keyword tags\")"
   ]
  },
  {
   "cell_type": "code",
   "execution_count": null,
   "id": "4cdac922",
   "metadata": {},
   "outputs": [],
   "source": [
    "#| code-summary: \"Create valid sample customer query data in JSON format to guide the LLM\"\n",
    "#Create valid sample customer query data in JSON format to guide the LLM\n",
    "\n",
    "valid_customer_query_json = '''\n",
    "{\n",
    "    \"name\": \"Jan Uzytkownik\",\n",
    "    \"email\": \"jan.uzytkownik@example.com\",\n",
    "    \"query\": \"I forgot my password. Treat this very urgently please.\",\n",
    "    \"order_number\": 12345,\n",
    "    \"purchase_date\": \"2023-01-01\",\n",
    "    department: \"Support\",\n",
    "    category: \"technical\",\n",
    "    priority: \"high\",\n",
    "    tags: [\"password\", \"login\", \"account\"]\n",
    "}\n",
    "'''\n"
   ]
  },
  {
   "cell_type": "markdown",
   "id": "a2a7fa07",
   "metadata": {
    "vscode": {
     "languageId": "markdown"
    }
   },
   "source": [
    "Next, I'll create a prompt that takes a validated user query and the customer_query model schema and returns JSON. At the end I'll add a request to return only valid JSON. This approach tends to fail..."
   ]
  },
  {
   "cell_type": "code",
   "execution_count": null,
   "id": "feeecce2",
   "metadata": {},
   "outputs": [
    {
     "name": "stdout",
     "output_type": "stream",
     "text": [
      "\n",
      "Please analyze this user query\n",
      " {\n",
      "  \"name\": \"Jan Uzytkownik\",\n",
      "  \"email\": \"jan.uzytkownik@example.com\",\n",
      "  \"query\": \"I forgot my password. Treat this very urgently please.\",\n",
      "  \"order_id\": null,\n",
      "  \"transaction_date\": null\n",
      "}:\n",
      "\n",
      "Return your analysis as a JSON object matching this exact structure \n",
      "and data types:\n",
      "\n",
      "{\n",
      "    \"name\": \"Jan Uzytkownik\",\n",
      "    \"email\": \"jan.uzytkownik@example.com\",\n",
      "    \"query\": \"I forgot my password.\",\n",
      "    \"order_number\": 12345,\n",
      "    \"purchase_date\": \"2023-01-01\",\n",
      "    department: \"Support\",\n",
      "    category: \"technical\",\n",
      "    priority: \"high\",\n",
      "    tags: [\"password\", \"login\", \"account\"]\n",
      "}\n",
      "\n",
      "\n",
      "Respond ONLY with valid JSON. Do not include any explanations or \n",
      "other text or formatting before or after the JSON object.\n",
      "\n"
     ]
    }
   ],
   "source": [
    "#| code-summary: \"Create prompt that includes validated user input and expected JSON structure\"\n",
    "# Create prompt with user data and expected JSON structure\n",
    "prompt = f\"\"\"\n",
    "Please analyze this user query\\n {user_input.model_dump_json(indent=2)}:\n",
    "\n",
    "Return your analysis as a JSON object matching this exact structure \n",
    "and data types:\n",
    "{valid_customer_query_json}\n",
    "\n",
    "Respond ONLY with valid JSON. Do not include any explanations or \n",
    "other text or formatting before or after the JSON object.\n",
    "\"\"\"\n",
    "\n",
    "print(prompt)"
   ]
  },
  {
   "cell_type": "markdown",
   "id": "9699fa3d",
   "metadata": {},
   "source": [
    "I'll define a function to call the OpenAI API taking the prompt defined above as an argument."
   ]
  },
  {
   "cell_type": "code",
   "execution_count": null,
   "id": "fee70718",
   "metadata": {},
   "outputs": [],
   "source": [
    "#| code-summary: \"Define function to call the OpenAI API with the prompt\"\n",
    "# Define a function to call the LLM\n",
    "def call_llm(prompt, model=\"gpt-4o\"):\n",
    "    response = client.chat.completions.create(\n",
    "        model=model,\n",
    "        messages=[{\"role\": \"user\", \"content\": prompt}]\n",
    "    )\n",
    "    return response.choices[0].message.content"
   ]
  },
  {
   "cell_type": "code",
   "execution_count": null,
   "id": "45be1fb2",
   "metadata": {},
   "outputs": [
    {
     "name": "stdout",
     "output_type": "stream",
     "text": [
      "```json\n",
      "{\n",
      "    \"name\": \"Jan Uzytkownik\",\n",
      "    \"email\": \"jan.uzytkownik@example.com\",\n",
      "    \"query\": \"I forgot my password.\",\n",
      "    \"order_number\": null,\n",
      "    \"purchase_date\": null,\n",
      "    \"department\": \"Support\",\n",
      "    \"category\": \"technical\",\n",
      "    \"priority\": \"high\",\n",
      "    \"tags\": [\"password\", \"login\", \"account\"]\n",
      "}\n",
      "```\n"
     ]
    }
   ],
   "source": [
    "#| code-summary: \"Call the LLM with the prompt and print the response\"\n",
    "# Get response from LLM\n",
    "response_content = call_llm(prompt)\n",
    "print(response_content)"
   ]
  },
  {
   "cell_type": "markdown",
   "id": "eaa9ae06",
   "metadata": {},
   "source": [
    "## Validate LLM output using CustomerQuery model\n",
    "\n",
    "This validation will fail - because the response we get has some additional \"fluff\" and is not in proper JSON format. Formatting (json ``` ...) is part of the response."
   ]
  },
  {
   "cell_type": "markdown",
   "id": "49c8f4ef",
   "metadata": {},
   "source": [
    "The validation attempt of the response results in an error - the response includes some additional formatting that is NOT JSON. 😞"
   ]
  },
  {
   "cell_type": "code",
   "execution_count": null,
   "id": "458e0c9b",
   "metadata": {},
   "outputs": [
    {
     "ename": "ValidationError",
     "evalue": "1 validation error for CustomerQuery\n  Invalid JSON: expected value at line 1 column 1 [type=json_invalid, input_value='```json\\n{\\n    \"name\": ...in\", \"account\"]\\n}\\n```', input_type=str]\n    For further information visit https://errors.pydantic.dev/2.11/v/json_invalid",
     "output_type": "error",
     "traceback": [
      "\u001b[31m---------------------------------------------------------------------------\u001b[39m",
      "\u001b[31mValidationError\u001b[39m                           Traceback (most recent call last)",
      "\u001b[36mCell\u001b[39m\u001b[36m \u001b[39m\u001b[32mIn[24]\u001b[39m\u001b[32m, line 2\u001b[39m\n\u001b[32m      1\u001b[39m \u001b[38;5;66;03m# Attempt to parse the response into CustomerQuery model\u001b[39;00m\n\u001b[32m----> \u001b[39m\u001b[32m2\u001b[39m valid_data = \u001b[43mCustomerQuery\u001b[49m\u001b[43m.\u001b[49m\u001b[43mmodel_validate_json\u001b[49m\u001b[43m(\u001b[49m\u001b[43mresponse_content\u001b[49m\u001b[43m)\u001b[49m\n",
      "\u001b[36mFile \u001b[39m\u001b[32m~/Desktop/Developer/using_pydantic_with_llms/.venv/lib/python3.13/site-packages/pydantic/main.py:746\u001b[39m, in \u001b[36mBaseModel.model_validate_json\u001b[39m\u001b[34m(cls, json_data, strict, context, by_alias, by_name)\u001b[39m\n\u001b[32m    740\u001b[39m \u001b[38;5;28;01mif\u001b[39;00m by_alias \u001b[38;5;129;01mis\u001b[39;00m \u001b[38;5;28;01mFalse\u001b[39;00m \u001b[38;5;129;01mand\u001b[39;00m by_name \u001b[38;5;129;01mis\u001b[39;00m \u001b[38;5;129;01mnot\u001b[39;00m \u001b[38;5;28;01mTrue\u001b[39;00m:\n\u001b[32m    741\u001b[39m     \u001b[38;5;28;01mraise\u001b[39;00m PydanticUserError(\n\u001b[32m    742\u001b[39m         \u001b[33m'\u001b[39m\u001b[33mAt least one of `by_alias` or `by_name` must be set to True.\u001b[39m\u001b[33m'\u001b[39m,\n\u001b[32m    743\u001b[39m         code=\u001b[33m'\u001b[39m\u001b[33mvalidate-by-alias-and-name-false\u001b[39m\u001b[33m'\u001b[39m,\n\u001b[32m    744\u001b[39m     )\n\u001b[32m--> \u001b[39m\u001b[32m746\u001b[39m \u001b[38;5;28;01mreturn\u001b[39;00m \u001b[38;5;28;43mcls\u001b[39;49m\u001b[43m.\u001b[49m\u001b[43m__pydantic_validator__\u001b[49m\u001b[43m.\u001b[49m\u001b[43mvalidate_json\u001b[49m\u001b[43m(\u001b[49m\n\u001b[32m    747\u001b[39m \u001b[43m    \u001b[49m\u001b[43mjson_data\u001b[49m\u001b[43m,\u001b[49m\u001b[43m \u001b[49m\u001b[43mstrict\u001b[49m\u001b[43m=\u001b[49m\u001b[43mstrict\u001b[49m\u001b[43m,\u001b[49m\u001b[43m \u001b[49m\u001b[43mcontext\u001b[49m\u001b[43m=\u001b[49m\u001b[43mcontext\u001b[49m\u001b[43m,\u001b[49m\u001b[43m \u001b[49m\u001b[43mby_alias\u001b[49m\u001b[43m=\u001b[49m\u001b[43mby_alias\u001b[49m\u001b[43m,\u001b[49m\u001b[43m \u001b[49m\u001b[43mby_name\u001b[49m\u001b[43m=\u001b[49m\u001b[43mby_name\u001b[49m\n\u001b[32m    748\u001b[39m \u001b[43m\u001b[49m\u001b[43m)\u001b[49m\n",
      "\u001b[31mValidationError\u001b[39m: 1 validation error for CustomerQuery\n  Invalid JSON: expected value at line 1 column 1 [type=json_invalid, input_value='```json\\n{\\n    \"name\": ...in\", \"account\"]\\n}\\n```', input_type=str]\n    For further information visit https://errors.pydantic.dev/2.11/v/json_invalid"
     ]
    }
   ],
   "source": [
    "#| echo: false\n",
    "#| warnings: false\n",
    "#| errors: false\n",
    "# Attempt to parse the response into CustomerQuery model\n",
    "valid_data = CustomerQuery.model_validate_json(response_content)"
   ]
  },
  {
   "cell_type": "markdown",
   "id": "72013370",
   "metadata": {},
   "source": [
    "## Function with a 'retry' prompt - passing an error back to the LLM\n",
    "\n",
    "I'll create a function that takes the validation error message as a parameter (in addition to the initial prompt and the response) and requests that the LLM try to correct the error.\n",
    "I'll need a function that returns data about the error that can be passed in the prompt."
   ]
  },
  {
   "cell_type": "code",
   "execution_count": 38,
   "id": "6df8c8ed",
   "metadata": {},
   "outputs": [],
   "source": [
    "# Define a function to validate an LLM response\n",
    "def validate_with_model(data_model, llm_response):\n",
    "    try:\n",
    "        validated_data = data_model.model_validate_json(llm_response)\n",
    "        print(\"data validation successful!\")\n",
    "        print(validated_data.model_dump_json(indent=2))\n",
    "        return validated_data, None\n",
    "    except ValidationError as e:\n",
    "        print(f\"❌ Validation errors found:\")\n",
    "        print(e.json(indent=2))\n",
    "        error_message = f\"{e.json(indent=2)}\"\n",
    "        return None, error_message"
   ]
  },
  {
   "cell_type": "code",
   "execution_count": null,
   "id": "93ec001f",
   "metadata": {},
   "outputs": [
    {
     "name": "stdout",
     "output_type": "stream",
     "text": [
      "❌ Validation errors found:\n",
      "[\n",
      "  {\n",
      "    \"type\": \"json_invalid\",\n",
      "    \"loc\": [],\n",
      "    \"msg\": \"Invalid JSON: expected value at line 1 column 1\",\n",
      "    \"input\": \"```json\\n{\\n    \\\"name\\\": \\\"Jan Uzytkownik\\\",\\n    \\\"email\\\": \\\"jan.uzytkownik@example.com\\\",\\n    \\\"query\\\": \\\"I forgot my password.\\\",\\n    \\\"order_number\\\": null,\\n    \\\"purchase_date\\\": null,\\n    \\\"department\\\": \\\"Support\\\",\\n    \\\"category\\\": \\\"technical\\\",\\n    \\\"priority\\\": \\\"high\\\",\\n    \\\"tags\\\": [\\\"password\\\", \\\"login\\\", \\\"account\\\"]\\n}\\n```\",\n",
      "    \"ctx\": {\n",
      "      \"error\": \"expected value at line 1 column 1\"\n",
      "    },\n",
      "    \"url\": \"https://errors.pydantic.dev/2.11/v/json_invalid\"\n",
      "  }\n",
      "]\n"
     ]
    }
   ],
   "source": [
    "#| code-summary: \"This code should return a nice looking JSON error information that can be used later\"\n",
    "# Test your validation function with the LLM response\n",
    "validated_data, validation_error = validate_with_model(\n",
    "    CustomerQuery, response_content\n",
    ")"
   ]
  },
  {
   "cell_type": "markdown",
   "id": "bcf913a9",
   "metadata": {},
   "source": [
    "Great! As expected we get an explanation for why response data is not valid. This function also returns the error_message that can be passed into a new prompt.\n",
    "\n",
    "Now, I'll create a function to try to get the proper answer:"
   ]
  },
  {
   "cell_type": "markdown",
   "id": "909dce8a",
   "metadata": {
    "vscode": {
     "languageId": "markdown"
    }
   },
   "source": [
    "The code in the next cell defines a function called create_retry_prompt. This function helps generate a new prompt for an LLM when a previous response fails validation.\n",
    "It takes the original prompt, the LLM's response, and the error message, then constructs a new prompt that asks the LLM to fix the error by comparing the invalid response and the error details.\n",
    "The function instructs the LLM to reply only with valid JSON, without any extra explanation or formatting."
   ]
  },
  {
   "cell_type": "code",
   "execution_count": null,
   "id": "121292b1",
   "metadata": {},
   "outputs": [],
   "source": [
    "#| code-summary: \"Define a function to create a retry prompt with error feedback\"\n",
    "# Define a function to create a retry prompt with error feedback\n",
    "def create_retry_prompt(\n",
    "    original_prompt, original_response, error_message\n",
    "):\n",
    "    retry_prompt = f\"\"\"\n",
    "This is a request to fix an error in the structure of an llm_response.\n",
    "Here is the original request:\n",
    "<original_prompt>\n",
    "{original_prompt}\n",
    "</original_prompt>\n",
    "\n",
    "Here is the original llm_response:\n",
    "<llm_response>\n",
    "{original_response}\n",
    "</llm_response>\n",
    "\n",
    "This response generated an error: \n",
    "<error_message>\n",
    "{error_message}\n",
    "</error_message>\n",
    "\n",
    "Compare the error message and the llm_response and identify what \n",
    "needs to be fixed or removed\n",
    "in the llm_response to resolve this error. \n",
    "\n",
    "Respond ONLY with valid JSON. Do not include any explanations or \n",
    "other text or formatting before or after the JSON string.\n",
    "\"\"\"\n",
    "    return retry_prompt"
   ]
  },
  {
   "cell_type": "markdown",
   "id": "730ee369",
   "metadata": {
    "vscode": {
     "languageId": "raw"
    }
   },
   "source": [
    "::: {.panel-tabset}\n",
    "### Test the function\n",
    "{{< contents ex1-code >}}\n",
    "\n",
    "### Validation Retry Prompt\n",
    "{{< contents ex1 >}}\n",
    ":::\n"
   ]
  },
  {
   "cell_type": "code",
   "execution_count": null,
   "id": "5bff8012",
   "metadata": {},
   "outputs": [
    {
     "name": "stdout",
     "output_type": "stream",
     "text": [
      "\n",
      "This is a request to fix an error in the structure of an llm_response.\n",
      "Here is the original request:\n",
      "<original_prompt>\n",
      "\n",
      "Please analyze this user query\n",
      " {\n",
      "  \"name\": \"Jan Uzytkownik\",\n",
      "  \"email\": \"jan.uzytkownik@example.com\",\n",
      "  \"query\": \"I forgot my password. Treat this very urgently please.\",\n",
      "  \"order_id\": null,\n",
      "  \"transaction_date\": null\n",
      "}:\n",
      "\n",
      "Return your analysis as a JSON object matching this exact structure \n",
      "and data types:\n",
      "\n",
      "{\n",
      "    \"name\": \"Jan Uzytkownik\",\n",
      "    \"email\": \"jan.uzytkownik@example.com\",\n",
      "    \"query\": \"I forgot my password.\",\n",
      "    \"order_number\": 12345,\n",
      "    \"purchase_date\": \"2023-01-01\",\n",
      "    department: \"Support\",\n",
      "    category: \"technical\",\n",
      "    priority: \"high\",\n",
      "    tags: [\"password\", \"login\", \"account\"]\n",
      "}\n",
      "\n",
      "\n",
      "Respond ONLY with valid JSON. Do not include any explanations or \n",
      "other text or formatting before or after the JSON object.\n",
      "\n",
      "</original_prompt>\n",
      "\n",
      "Here is the original llm_response:\n",
      "<llm_response>\n",
      "```json\n",
      "{\n",
      "    \"name\": \"Jan Uzytkownik\",\n",
      "    \"email\": \"jan.uzytkownik@example.com\",\n",
      "    \"query\": \"I forgot my password.\",\n",
      "    \"order_number\": null,\n",
      "    \"purchase_date\": null,\n",
      "    \"department\": \"Support\",\n",
      "    \"category\": \"technical\",\n",
      "    \"priority\": \"high\",\n",
      "    \"tags\": [\"password\", \"login\", \"account\"]\n",
      "}\n",
      "```\n",
      "</llm_response>\n",
      "\n",
      "This response generated an error: \n",
      "<error_message>\n",
      "[\n",
      "  {\n",
      "    \"type\": \"json_invalid\",\n",
      "    \"loc\": [],\n",
      "    \"msg\": \"Invalid JSON: expected value at line 1 column 1\",\n",
      "    \"input\": \"```json\\n{\\n    \\\"name\\\": \\\"Jan Uzytkownik\\\",\\n    \\\"email\\\": \\\"jan.uzytkownik@example.com\\\",\\n    \\\"query\\\": \\\"I forgot my password.\\\",\\n    \\\"order_number\\\": null,\\n    \\\"purchase_date\\\": null,\\n    \\\"department\\\": \\\"Support\\\",\\n    \\\"category\\\": \\\"technical\\\",\\n    \\\"priority\\\": \\\"high\\\",\\n    \\\"tags\\\": [\\\"password\\\", \\\"login\\\", \\\"account\\\"]\\n}\\n```\",\n",
      "    \"ctx\": {\n",
      "      \"error\": \"expected value at line 1 column 1\"\n",
      "    },\n",
      "    \"url\": \"https://errors.pydantic.dev/2.11/v/json_invalid\"\n",
      "  }\n",
      "]\n",
      "</error_message>\n",
      "\n",
      "Compare the error message and the llm_response and identify what \n",
      "needs to be fixed or removed\n",
      "in the llm_response to resolve this error. \n",
      "\n",
      "Respond ONLY with valid JSON. Do not include any explanations or \n",
      "other text or formatting before or after the JSON string.\n",
      "\n"
     ]
    }
   ],
   "source": [
    "#| label: ex1\n",
    "#| echo: false\n",
    "#| code-fold: false\n",
    "# Create a retry prompt for validation errors\n",
    "validation_retry_prompt = create_retry_prompt(\n",
    "    original_prompt=prompt,\n",
    "    original_response=response_content,\n",
    "    error_message=validation_error\n",
    ")\n",
    "\n",
    "print(validation_retry_prompt)"
   ]
  },
  {
   "cell_type": "code",
   "execution_count": null,
   "id": "6346815b",
   "metadata": {},
   "outputs": [],
   "source": [
    "#| label: ex1-code\n",
    "#| eval: false\n",
    "#| echo: fenced\n",
    "#| code-summary: \"Test the function:\"\n",
    "# Create a retry prompt for validation errors\n",
    "validation_retry_prompt = create_retry_prompt(\n",
    "    original_prompt=prompt,\n",
    "    original_response=response_content,\n",
    "    error_message=validation_error\n",
    ")\n",
    "\n",
    "print(validation_retry_prompt)"
   ]
  },
  {
   "cell_type": "code",
   "execution_count": null,
   "id": "5eb0513a",
   "metadata": {},
   "outputs": [
    {
     "name": "stdout",
     "output_type": "stream",
     "text": [
      "{\n",
      "    \"name\": \"Jan Uzytkownik\",\n",
      "    \"email\": \"jan.uzytkownik@example.com\",\n",
      "    \"query\": \"I forgot my password.\",\n",
      "    \"order_number\": 12345,\n",
      "    \"purchase_date\": \"2023-01-01\",\n",
      "    \"department\": \"Support\",\n",
      "    \"category\": \"technical\",\n",
      "    \"priority\": \"high\",\n",
      "    \"tags\": [\"password\", \"login\", \"account\"]\n",
      "}\n"
     ]
    }
   ],
   "source": [
    "#| code-summary: \"Call the LLM with the validation retry prompt and print the response\"\n",
    "# Call the LLM with the validation retry prompt\n",
    "validation_retry_response = call_llm(validation_retry_prompt)\n",
    "print(validation_retry_response)"
   ]
  },
  {
   "cell_type": "markdown",
   "id": "786bb479",
   "metadata": {},
   "source": [
    "Wow! It works! We got what looks like proper JSON back. Let's validate it."
   ]
  },
  {
   "cell_type": "code",
   "execution_count": null,
   "id": "7d63818b",
   "metadata": {},
   "outputs": [
    {
     "name": "stdout",
     "output_type": "stream",
     "text": [
      "data validation successful!\n",
      "{\n",
      "  \"name\": \"Jan Uzytkownik\",\n",
      "  \"email\": \"jan.uzytkownik@example.com\",\n",
      "  \"query\": \"I forgot my password.\",\n",
      "  \"order_id\": null,\n",
      "  \"transaction_date\": null,\n",
      "  \"department\": \"Support\",\n",
      "  \"category\": \"technical\",\n",
      "  \"priority\": \"high\",\n",
      "  \"tags\": [\n",
      "    \"password\",\n",
      "    \"login\",\n",
      "    \"account\"\n",
      "  ]\n",
      "}\n"
     ]
    }
   ],
   "source": [
    "#| code-summary: \"Attempt to validate retry response from LLM\"\n",
    "# Attempt to validate retry response from LLM\n",
    "validated_data, validation_error = validate_with_model(\n",
    "    CustomerQuery, validation_retry_response\n",
    ")"
   ]
  },
  {
   "cell_type": "markdown",
   "id": "a12db1c5",
   "metadata": {},
   "source": [
    "Data validation successful!\n",
    "\n",
    "What if there was still an issue? It would be good to have a function that keeps trying new prompts to resolve it (but also that does not end up in an infinite loop - it could be very co$$$$tly!!!)"
   ]
  },
  {
   "cell_type": "markdown",
   "id": "3f7cb1f7",
   "metadata": {},
   "source": [
    "::: {.panel-tabset}\n",
    "### Test the function\n",
    "{{< contents ex2-code >}}\n",
    "\n",
    "### Validation Retry Prompt\n",
    "{{< contents ex2 >}}\n",
    ":::\n"
   ]
  },
  {
   "cell_type": "code",
   "execution_count": null,
   "id": "d2fb2959",
   "metadata": {},
   "outputs": [
    {
     "name": "stdout",
     "output_type": "stream",
     "text": [
      "\n",
      "This is a request to fix an error in the structure of an llm_response.\n",
      "Here is the original request:\n",
      "<original_prompt>\n",
      "\n",
      "This is a request to fix an error in the structure of an llm_response.\n",
      "Here is the original request:\n",
      "<original_prompt>\n",
      "\n",
      "Please analyze this user query\n",
      " {\n",
      "  \"name\": \"Jan Uzytkownik\",\n",
      "  \"email\": \"jan.uzytkownik@example.com\",\n",
      "  \"query\": \"I forgot my password. Treat this very urgently please.\",\n",
      "  \"order_id\": null,\n",
      "  \"transaction_date\": null\n",
      "}:\n",
      "\n",
      "Return your analysis as a JSON object matching this exact structure \n",
      "and data types:\n",
      "\n",
      "{\n",
      "    \"name\": \"Jan Uzytkownik\",\n",
      "    \"email\": \"jan.uzytkownik@example.com\",\n",
      "    \"query\": \"I forgot my password.\",\n",
      "    \"order_number\": 12345,\n",
      "    \"purchase_date\": \"2023-01-01\",\n",
      "    department: \"Support\",\n",
      "    category: \"technical\",\n",
      "    priority: \"high\",\n",
      "    tags: [\"password\", \"login\", \"account\"]\n",
      "}\n",
      "\n",
      "\n",
      "Respond ONLY with valid JSON. Do not include any explanations or \n",
      "other text or formatting before or after the JSON object.\n",
      "\n",
      "</original_prompt>\n",
      "\n",
      "Here is the original llm_response:\n",
      "<llm_response>\n",
      "```json\n",
      "{\n",
      "    \"name\": \"Jan Uzytkownik\",\n",
      "    \"email\": \"jan.uzytkownik@example.com\",\n",
      "    \"query\": \"I forgot my password.\",\n",
      "    \"order_number\": null,\n",
      "    \"purchase_date\": null,\n",
      "    \"department\": \"Support\",\n",
      "    \"category\": \"technical\",\n",
      "    \"priority\": \"high\",\n",
      "    \"tags\": [\"password\", \"login\", \"account\"]\n",
      "}\n",
      "```\n",
      "</llm_response>\n",
      "\n",
      "This response generated an error: \n",
      "<error_message>\n",
      "[\n",
      "  {\n",
      "    \"type\": \"json_invalid\",\n",
      "    \"loc\": [],\n",
      "    \"msg\": \"Invalid JSON: expected value at line 1 column 1\",\n",
      "    \"input\": \"```json\\n{\\n    \\\"name\\\": \\\"Jan Uzytkownik\\\",\\n    \\\"email\\\": \\\"jan.uzytkownik@example.com\\\",\\n    \\\"query\\\": \\\"I forgot my password.\\\",\\n    \\\"order_number\\\": null,\\n    \\\"purchase_date\\\": null,\\n    \\\"department\\\": \\\"Support\\\",\\n    \\\"category\\\": \\\"technical\\\",\\n    \\\"priority\\\": \\\"high\\\",\\n    \\\"tags\\\": [\\\"password\\\", \\\"login\\\", \\\"account\\\"]\\n}\\n```\",\n",
      "    \"ctx\": {\n",
      "      \"error\": \"expected value at line 1 column 1\"\n",
      "    },\n",
      "    \"url\": \"https://errors.pydantic.dev/2.11/v/json_invalid\"\n",
      "  }\n",
      "]\n",
      "</error_message>\n",
      "\n",
      "Compare the error message and the llm_response and identify what \n",
      "needs to be fixed or removed\n",
      "in the llm_response to resolve this error. \n",
      "\n",
      "Respond ONLY with valid JSON. Do not include any explanations or \n",
      "other text or formatting before or after the JSON string.\n",
      "\n",
      "</original_prompt>\n",
      "\n",
      "Here is the original llm_response:\n",
      "<llm_response>\n",
      "{\n",
      "    \"name\": \"Jan Uzytkownik\",\n",
      "    \"email\": \"jan.uzytkownik@example.com\",\n",
      "    \"query\": \"I forgot my password.\",\n",
      "    \"order_number\": 12345,\n",
      "    \"purchase_date\": \"2023-01-01\",\n",
      "    \"department\": \"Support\",\n",
      "    \"category\": \"technical\",\n",
      "    \"priority\": \"high\",\n",
      "    \"tags\": [\"password\", \"login\", \"account\"]\n",
      "}\n",
      "</llm_response>\n",
      "\n",
      "This response generated an error: \n",
      "<error_message>\n",
      "None\n",
      "</error_message>\n",
      "\n",
      "Compare the error message and the llm_response and identify what \n",
      "needs to be fixed or removed\n",
      "in the llm_response to resolve this error. \n",
      "\n",
      "Respond ONLY with valid JSON. Do not include any explanations or \n",
      "other text or formatting before or after the JSON string.\n",
      "\n"
     ]
    }
   ],
   "source": [
    "#| label: ex2\n",
    "#| echo: false\n",
    "#| code-summary: \"Create a second retry prompt for validation errors\"\n",
    "# Create a second retry prompt for validation errors\n",
    "second_validation_retry_prompt = create_retry_prompt(\n",
    "    original_prompt=validation_retry_prompt,\n",
    "    original_response=validation_retry_response,\n",
    "    error_message=validation_error\n",
    ")\n",
    "print(second_validation_retry_prompt)"
   ]
  },
  {
   "cell_type": "code",
   "execution_count": null,
   "id": "1b1fbcff",
   "metadata": {},
   "outputs": [],
   "source": [
    "#| label: ex2-code\n",
    "#| eval: false\n",
    "#| echo: fenced\n",
    "#| code-summary: \"Create a second retry prompt for validation errors\"\n",
    "# Create a second retry prompt for validation errors\n",
    "second_validation_retry_prompt = create_retry_prompt(\n",
    "    original_prompt=validation_retry_prompt,\n",
    "    original_response=validation_retry_response,\n",
    "    error_message=validation_error\n",
    ")\n",
    "print(second_validation_retry_prompt)"
   ]
  },
  {
   "cell_type": "code",
   "execution_count": null,
   "id": "8d1288f8",
   "metadata": {},
   "outputs": [
    {
     "name": "stdout",
     "output_type": "stream",
     "text": [
      "```json\n",
      "{\n",
      "    \"name\": \"Jan Uzytkownik\",\n",
      "    \"email\": \"jan.uzytkownik@example.com\",\n",
      "    \"query\": \"I forgot my password.\",\n",
      "    \"order_number\": 12345,\n",
      "    \"purchase_date\": \"2023-01-01\",\n",
      "    \"department\": \"Support\",\n",
      "    \"category\": \"technical\",\n",
      "    \"priority\": \"high\",\n",
      "    \"tags\": [\"password\", \"login\", \"account\"]\n",
      "}\n",
      "```\n"
     ]
    }
   ],
   "source": [
    "#| code-summary: \"Call the LLM with the second validation retry prompt and print the response\"\n",
    "# Call the LLM with the second validation retry prompt\n",
    "second_validation_retry_response = call_llm(\n",
    "    second_validation_retry_prompt\n",
    ")\n",
    "print(second_validation_retry_response)"
   ]
  },
  {
   "cell_type": "markdown",
   "id": "7d660491",
   "metadata": {},
   "source": [
    "The function below will try 5 times to obtain a response in a valid format. Because LLMs are probabilistic, we don't know how many attempts will be required. LLMs don't do the same thing every time."
   ]
  },
  {
   "cell_type": "code",
   "execution_count": null,
   "id": "ed9ca2ab",
   "metadata": {},
   "outputs": [],
   "source": [
    "#| code-summary: \"Code for validation function with retries\"\n",
    "def validate_llm_response(\n",
    "    prompt, data_model, n_retry=5, model=\"gpt-4o\"\n",
    "):\n",
    "    # Initial LLM call\n",
    "    response_content = call_llm(prompt, model=model)\n",
    "    current_prompt = prompt\n",
    "\n",
    "    # Try to validate with the model\n",
    "    # attempt: 0=initial, 1=first retry, ...\n",
    "    for attempt in range(n_retry + 1):\n",
    "\n",
    "        validated_data, validation_error = validate_with_model(\n",
    "            data_model, response_content\n",
    "        )\n",
    "\n",
    "        if validation_error:\n",
    "            if attempt < n_retry:\n",
    "                print(f\"retry {attempt} of {n_retry} failed, trying again...\")\n",
    "            else:\n",
    "                print(f\"Max retries reached. Last error: {validation_error}\")\n",
    "                return None, (\n",
    "                    f\"Max retries reached. Last error: {validation_error}\"\n",
    "                )\n",
    "\n",
    "            validation_retry_prompt = create_retry_prompt(\n",
    "                original_prompt=current_prompt,\n",
    "                original_response=response_content,\n",
    "                error_message=validation_error\n",
    "            )\n",
    "            response_content = call_llm(\n",
    "                validation_retry_prompt, model=model\n",
    "            )\n",
    "            current_prompt = validation_retry_prompt\n",
    "            continue\n",
    "\n",
    "        # If you get here, both parsing and validation succeeded\n",
    "        return validated_data, None"
   ]
  },
  {
   "cell_type": "markdown",
   "id": "57fa56ff",
   "metadata": {},
   "source": [
    "Test the validation function:"
   ]
  },
  {
   "cell_type": "code",
   "execution_count": 52,
   "id": "810eab80",
   "metadata": {},
   "outputs": [
    {
     "name": "stdout",
     "output_type": "stream",
     "text": [
      "❌ Validation errors found:\n",
      "[\n",
      "  {\n",
      "    \"type\": \"json_invalid\",\n",
      "    \"loc\": [],\n",
      "    \"msg\": \"Invalid JSON: expected value at line 1 column 1\",\n",
      "    \"input\": \"```json\\n{\\n    \\\"name\\\": \\\"Jan Uzytkownik\\\",\\n    \\\"email\\\": \\\"jan.uzytkownik@example.com\\\",\\n    \\\"query\\\": \\\"I forgot my password. Treat this very urgently please.\\\",\\n    \\\"order_number\\\": null,\\n    \\\"purchase_date\\\": null,\\n    \\\"department\\\": \\\"Support\\\",\\n    \\\"category\\\": \\\"technical\\\",\\n    \\\"priority\\\": \\\"high\\\",\\n    \\\"tags\\\": [\\\"password\\\", \\\"login\\\", \\\"account\\\"]\\n}\\n```\",\n",
      "    \"ctx\": {\n",
      "      \"error\": \"expected value at line 1 column 1\"\n",
      "    },\n",
      "    \"url\": \"https://errors.pydantic.dev/2.11/v/json_invalid\"\n",
      "  }\n",
      "]\n",
      "retry 0 of 5 failed, trying again...\n",
      "data validation successful!\n",
      "{\n",
      "  \"name\": \"Jan Uzytkownik\",\n",
      "  \"email\": \"jan.uzytkownik@example.com\",\n",
      "  \"query\": \"I forgot my password.\",\n",
      "  \"order_id\": null,\n",
      "  \"transaction_date\": null,\n",
      "  \"department\": \"Support\",\n",
      "  \"category\": \"technical\",\n",
      "  \"priority\": \"high\",\n",
      "  \"tags\": [\n",
      "    \"password\",\n",
      "    \"login\",\n",
      "    \"account\"\n",
      "  ]\n",
      "}\n"
     ]
    }
   ],
   "source": [
    "# Test your complete solution with the original prompt\n",
    "validated_data, error = validate_llm_response(\n",
    "    prompt, CustomerQuery\n",
    ")"
   ]
  },
  {
   "cell_type": "markdown",
   "id": "c0ea3581",
   "metadata": {},
   "source": [
    "What's interesting is that sometimes it needs 2, 3 and sometimes 5 attempts.Let's take a look at the validated data in JSON format."
   ]
  },
  {
   "cell_type": "markdown",
   "id": "4a0d2e48",
   "metadata": {},
   "source": [
    "## Include a Pydantic model schema as JSON in the LLM prompt\n",
    "\n",
    "I'll print out the JSON schema of a Pydantic model and include it in the prompt so that the LLM can see exactly what is expected. It's difficult to read but an LLM will be able to parse it.\n",
    "\n",
    "This is what the JSON schema of a Pydantic model looks like:"
   ]
  },
  {
   "cell_type": "markdown",
   "id": "7be89ada",
   "metadata": {},
   "source": [
    "::: {.panel-tabset}\n",
    "### Test the function\n",
    "{{< contents ex3-code >}}\n",
    "\n",
    "### Validation Retry Prompt\n",
    "{{< contents ex3 >}}\n",
    ":::"
   ]
  },
  {
   "cell_type": "code",
   "execution_count": null,
   "id": "63bddc74",
   "metadata": {},
   "outputs": [
    {
     "name": "stdout",
     "output_type": "stream",
     "text": [
      "{\n",
      "  \"properties\": {\n",
      "    \"name\": {\n",
      "      \"title\": \"Name\",\n",
      "      \"type\": \"string\"\n",
      "    },\n",
      "    \"email\": {\n",
      "      \"format\": \"email\",\n",
      "      \"title\": \"Email\",\n",
      "      \"type\": \"string\"\n",
      "    },\n",
      "    \"query\": {\n",
      "      \"title\": \"Query\",\n",
      "      \"type\": \"string\"\n",
      "    },\n",
      "    \"order_id\": {\n",
      "      \"anyOf\": [\n",
      "        {\n",
      "          \"maximum\": 99999,\n",
      "          \"minimum\": 10000,\n",
      "          \"type\": \"integer\"\n",
      "        },\n",
      "        {\n",
      "          \"type\": \"null\"\n",
      "        }\n",
      "      ],\n",
      "      \"default\": null,\n",
      "      \"description\": \"5-digit order number (cannot start with 0)\",\n",
      "      \"title\": \"Order Id\"\n",
      "    },\n",
      "    \"transaction_date\": {\n",
      "      \"anyOf\": [\n",
      "        {\n",
      "          \"format\": \"date\",\n",
      "          \"type\": \"string\"\n",
      "        },\n",
      "        {\n",
      "          \"type\": \"null\"\n",
      "        }\n",
      "      ],\n",
      "      \"default\": null,\n",
      "      \"title\": \"Transaction Date\"\n",
      "    },\n",
      "    \"department\": {\n",
      "      \"description\": \"Department to route the query to\",\n",
      "      \"title\": \"Department\",\n",
      "      \"type\": \"string\"\n",
      "    },\n",
      "    \"category\": {\n",
      "      \"description\": \"Category of the query - billing, technical, or general\",\n",
      "      \"enum\": [\n",
      "        \"billing\",\n",
      "        \"technical\",\n",
      "        \"general\"\n",
      "      ],\n",
      "      \"title\": \"Category\",\n",
      "      \"type\": \"string\"\n",
      "    },\n",
      "    \"priority\": {\n",
      "      \"description\": \"Priority level of the query\",\n",
      "      \"enum\": [\n",
      "        \"low\",\n",
      "        \"medium\",\n",
      "        \"high\"\n",
      "      ],\n",
      "      \"title\": \"Priority\",\n",
      "      \"type\": \"string\"\n",
      "    },\n",
      "    \"tags\": {\n",
      "      \"anyOf\": [\n",
      "        {\n",
      "          \"items\": {\n",
      "            \"type\": \"string\"\n",
      "          },\n",
      "          \"maxItems\": 5,\n",
      "          \"type\": \"array\"\n",
      "        },\n",
      "        {\n",
      "          \"type\": \"null\"\n",
      "        }\n",
      "      ],\n",
      "      \"description\": \"Up to 5 keyword tags\",\n",
      "      \"title\": \"Tags\"\n",
      "    }\n",
      "  },\n",
      "  \"required\": [\n",
      "    \"name\",\n",
      "    \"email\",\n",
      "    \"query\",\n",
      "    \"department\",\n",
      "    \"category\",\n",
      "    \"priority\",\n",
      "    \"tags\"\n",
      "  ],\n",
      "  \"title\": \"CustomerQuery\",\n",
      "  \"type\": \"object\"\n",
      "}\n"
     ]
    }
   ],
   "source": [
    "#| label: ex3\n",
    "#| echo: false\n",
    "# Investigate the model_json_schema for CustomerQuery\n",
    "data_model_schema = json.dumps(\n",
    "    CustomerQuery.model_json_schema(), indent=2\n",
    ")\n",
    "print(data_model_schema)"
   ]
  },
  {
   "cell_type": "code",
   "execution_count": null,
   "id": "9781c568",
   "metadata": {},
   "outputs": [],
   "source": [
    "#| label: ex3-code\n",
    "#| eval: false\n",
    "#| echo: fenced\n",
    "# Investigate the model_json_schema for CustomerQuery\n",
    "data_model_schema = json.dumps(\n",
    "    CustomerQuery.model_json_schema(), indent=2\n",
    ")\n",
    "print(data_model_schema)"
   ]
  },
  {
   "cell_type": "code",
   "execution_count": null,
   "id": "de38b191",
   "metadata": {},
   "outputs": [],
   "source": [
    "#| code-summary: \"Another approach to this method - include a Pydantic model schema in the prompt\"\n",
    "# Create new prompt with user input and model_json_schema\n",
    "prompt = f\"\"\"\n",
    "Please analyze this user query\\n {user_input.model_dump_json(indent=2)}:\n",
    "\n",
    "Return your analysis as a JSON object matching the following schema:\n",
    "{data_model_schema}\n",
    "\n",
    "Respond ONLY with valid JSON. Do not include any explanations or \n",
    "other text or formatting before or after the JSON object.\n",
    "\"\"\""
   ]
  },
  {
   "cell_type": "markdown",
   "id": "0fde7189",
   "metadata": {},
   "source": [
    "This should work better than the first approach..."
   ]
  },
  {
   "cell_type": "code",
   "execution_count": null,
   "id": "808b2d7f",
   "metadata": {},
   "outputs": [
    {
     "name": "stdout",
     "output_type": "stream",
     "text": [
      "❌ Validation errors found:\n",
      "[\n",
      "  {\n",
      "    \"type\": \"json_invalid\",\n",
      "    \"loc\": [],\n",
      "    \"msg\": \"Invalid JSON: expected value at line 1 column 1\",\n",
      "    \"input\": \"```json\\n{\\n  \\\"name\\\": \\\"Jan Uzytkownik\\\",\\n  \\\"email\\\": \\\"jan.uzytkownik@example.com\\\",\\n  \\\"query\\\": \\\"I forgot my password. Treat this very urgently please.\\\",\\n  \\\"order_id\\\": null,\\n  \\\"transaction_date\\\": null,\\n  \\\"department\\\": \\\"technical support\\\",\\n  \\\"category\\\": \\\"technical\\\",\\n  \\\"priority\\\": \\\"high\\\",\\n  \\\"tags\\\": [\\\"password\\\", \\\"urgent\\\", \\\"technical issue\\\"]\\n}\\n```\",\n",
      "    \"ctx\": {\n",
      "      \"error\": \"expected value at line 1 column 1\"\n",
      "    },\n",
      "    \"url\": \"https://errors.pydantic.dev/2.11/v/json_invalid\"\n",
      "  }\n",
      "]\n",
      "retry 0 of 5 failed, trying again...\n",
      "data validation successful!\n",
      "{\n",
      "  \"name\": \"Jan Uzytkownik\",\n",
      "  \"email\": \"jan.uzytkownik@example.com\",\n",
      "  \"query\": \"I forgot my password. Treat this very urgently please.\",\n",
      "  \"order_id\": null,\n",
      "  \"transaction_date\": null,\n",
      "  \"department\": \"technical support\",\n",
      "  \"category\": \"technical\",\n",
      "  \"priority\": \"high\",\n",
      "  \"tags\": [\n",
      "    \"password\",\n",
      "    \"urgent\",\n",
      "    \"technical issue\"\n",
      "  ]\n",
      "}\n"
     ]
    }
   ],
   "source": [
    "#| code-summary: \"Test the validation function:\"\n",
    "# Run your validate_llm_response function with the new prompt\n",
    "final_analysis, error = validate_llm_response(\n",
    "    prompt, CustomerQuery\n",
    ")"
   ]
  },
  {
   "cell_type": "markdown",
   "id": "5989bd3c",
   "metadata": {
    "vscode": {
     "languageId": "markdown"
    }
   },
   "source": [
    "## Conclusion\n",
    "\n",
    "Using Pydantic to validate and structure LLM responses offers significant advantages over simply requesting JSON output in prompts. While LLMs can often generate well-formed JSON, inconsistencies and formatting errors are common, especially in complex workflows. By leveraging Pydantic models, you can enforce strict data validation, catch errors early, and automate retries with targeted feedback—making your pipeline more robust and reliable.\n",
    "\n",
    "Including model schemas in prompts further guides the LLM toward producing valid outputs. However, apparently there is still a better way of doing this - by including the Pydantic model directly in the API call. That's what I'll investigate next."
   ]
  }
 ],
 "metadata": {
  "kernelspec": {
   "display_name": ".venv (3.13.2)",
   "language": "python",
   "name": "python3"
  },
  "language_info": {
   "codemirror_mode": {
    "name": "ipython",
    "version": 3
   },
   "file_extension": ".py",
   "mimetype": "text/x-python",
   "name": "python",
   "nbconvert_exporter": "python",
   "pygments_lexer": "ipython3",
   "version": "3.13.2"
  }
 },
 "nbformat": 4,
 "nbformat_minor": 5
}
