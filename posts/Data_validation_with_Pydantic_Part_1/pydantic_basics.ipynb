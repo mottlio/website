{
 "cells": [
  {
   "cell_type": "raw",
   "id": "b05c64e0",
   "metadata": {
    "vscode": {
     "languageId": "raw"
    }
   },
   "source": [
    "---\n",
    "title: \"Pydantic Basics - Part 1\"\n",
    "subtitle: \"I explore using the Pydantic package to validate sample user input data\"\n",
    "date: '2025-03-01'\n",
    "categories: ['Python', 'Pydantic', 'Data Validation']\n",
    "format:\n",
    "  html:\n",
    "    code-fold: true\n",
    "    code-summary: \"Show code\"\n",
    "    code-tools: true\n",
    "---\n"
   ]
  },
  {
   "cell_type": "markdown",
   "id": "dd1a24d0",
   "metadata": {},
   "source": [
    "# Using the Pydantic package to validate data in applications relying on LLM APIs\n",
    "\n",
    "I've been experimenting with validating LLM input and output data with the [Pydantic](https://docs.pydantic.dev/latest/) Python package. Several applications I'm working on require data validation at different stages: when accepting user input, when receiving responses from LLM APIs, when using that data to call other functions.\n",
    "\n",
    "The code I used for these experiments is available [here](https://github.com/mottlio/using_pydantic_with_llms).\n",
    "\n",
    "User input data can be messy and needs to be validated before being passed to other parts of the application. When using LLM APIs, I've found that simply requesting a certain output format (like JSON) in the LLM prompt is not 100% reliable and the LLM response often contains some additional 'fluff' or misses key fields.  \n",
    "\n",
    "There are several ways in which the Pydantic package can be used to help with this. It can be used to validate data coming from the user or an LLM response. \n",
    "\n",
    "When using [Instructor](https://python.useinstructor.com/), another useful Python library helping to bring structure to LLM outputs, a Pydantic model schema (in JSON format) can also be included directly in the LLM API call. \n",
    "\n",
    "I'll experiment with these methods. I'll use the OpenAI, Anthropic and Gemini LLMs in the process. "
   ]
  },
  {
   "cell_type": "markdown",
   "id": "5df994df",
   "metadata": {},
   "source": [
    "My first objective is to create a Pydantic model to validate user input data in a fictional customer support system. In this scenario, users submit queries and I rely on the LLM to classify the request, assign urgency and keyword tags.\n",
    "I'll use venv to create a virtual environment .venv into which I'll install the IPkernel and Pydantic packages (it's a best practice and will prevent any conflicts with packages installed in the global environment). I'll also need to `pip install pydantic[email]` - the email validator.\n",
    "\n",
    "First, I'll load the required libraries."
   ]
  },
  {
   "cell_type": "code",
   "execution_count": 2,
   "id": "0025b767",
   "metadata": {},
   "outputs": [],
   "source": [
    "# Import the pydantic and json libraries\n",
    "from pydantic import BaseModel, ValidationError, EmailStr, Field\n",
    "from typing import Optional\n",
    "from datetime import date\n",
    "import json"
   ]
  },
  {
   "cell_type": "markdown",
   "id": "d41dd155",
   "metadata": {},
   "source": [
    "## Define a Pydantic model for user input and populate it with some sample data"
   ]
  },
  {
   "cell_type": "markdown",
   "id": "cbc68bf2",
   "metadata": {
    "vscode": {
     "languageId": "markdown"
    }
   },
   "source": [
    "In the next cell, I'll define a Pydantic model to validate user input data for a customer support scenario. This model will ensure that the data provided by users—such as customer number, email address, and issue description—meets the expected format and requirements before it is processed further. By using Pydantic, I can catch common data issues early and provide clear feedback on any validation errors.\n",
    "\n",
    "I'll also create some sample data in a Python dictionary format."
   ]
  },
  {
   "cell_type": "code",
   "execution_count": 3,
   "id": "9e7cd308",
   "metadata": {},
   "outputs": [],
   "source": [
    "#| code-fold: false\n",
    "\n",
    "# Create a Pydantic model to validate user input data consisting of a customer_number (int), email (str), and issue_description (str).\n",
    "# The new UserInput class inherits from BaseModel, which provides the core functionality for data validation and parsing.\n",
    "class UserInput(BaseModel):\n",
    "    customer_number: int\n",
    "    email: EmailStr\n",
    "    issue_description: str\n",
    "    \n",
    "# Sample data to populate the model\n",
    "sample_data = {\n",
    "    \"customer_number\": 12345,\n",
    "    \"email\": \"  user@example.com  \",\n",
    "    \"issue_description\": \"I am unable to access my account.\"\n",
    "}"
   ]
  },
  {
   "cell_type": "markdown",
   "id": "b0c1f063",
   "metadata": {},
   "source": [
    "I can then use Pydantic to validate the sample data. The ** syntax is used to unpack a Python dictionary. The code returns validated data - as an instance of the UserInput class. "
   ]
  },
  {
   "cell_type": "code",
   "execution_count": 4,
   "id": "24ae61da",
   "metadata": {},
   "outputs": [
    {
     "name": "stdout",
     "output_type": "stream",
     "text": [
      "customer_number=12345 email='user@example.com' issue_description='I am unable to access my account.'\n",
      "<class '__main__.UserInput'>\n"
     ]
    }
   ],
   "source": [
    "#| code-fold: false\n",
    "\n",
    "# Validate sample_data\n",
    "\n",
    "user_input = UserInput(**sample_data)\n",
    "\n",
    "print(user_input)\n",
    "print(type(user_input))"
   ]
  },
  {
   "cell_type": "markdown",
   "id": "c696b1c9",
   "metadata": {},
   "source": [
    "Next, I'll create an error on purpose - string instead of number and no email. The error can be introduced in several places just to test the model."
   ]
  },
  {
   "cell_type": "code",
   "execution_count": 5,
   "id": "47067a40",
   "metadata": {},
   "outputs": [
    {
     "name": "stdout",
     "output_type": "stream",
     "text": [
      "[{\"type\":\"int_parsing\",\"loc\":[\"customer_number\"],\"msg\":\"Input should be a valid integer, unable to parse string as an integer\",\"input\":\"not_a_number\",\"url\":\"https://errors.pydantic.dev/2.11/v/int_parsing\"},{\"type\":\"value_error\",\"loc\":[\"email\"],\"msg\":\"value is not a valid email address: An email address must have an @-sign.\",\"input\":\"invalid_email\",\"ctx\":{\"reason\":\"An email address must have an @-sign.\"},\"url\":\"https://errors.pydantic.dev/2.11/v/value_error\"},{\"type\":\"string_type\",\"loc\":[\"issue_description\"],\"msg\":\"Input should be a valid string\",\"input\":6,\"url\":\"https://errors.pydantic.dev/2.11/v/string_type\"}]\n"
     ]
    }
   ],
   "source": [
    "# Populate model with invalid data to see validation errors\n",
    "invalid_data = {\n",
    "    \"customer_number\": \"not_a_number\",\n",
    "    \"email\": \"invalid_email\",\n",
    "    \"issue_description\": 6\n",
    "}\n",
    "\n",
    "#Run this cell below to see validation errors returned as JSON\n",
    "try:\n",
    "    #I'm using the UserInput model defined above to validate data\n",
    "    user_input = UserInput(**invalid_data)\n",
    "except ValidationError as e:\n",
    "    print(e.json()) "
   ]
  },
  {
   "cell_type": "markdown",
   "id": "fb9394a4",
   "metadata": {
    "vscode": {
     "languageId": "markdown"
    }
   },
   "source": [
    "In the next cell, I'll create a reusable function that validates user input data against the Pydantic model. This function will help streamline the validation process by handling both successful validations and errors, making it easier to test different scenarios and demonstrate how Pydantic provides clear feedback when data doesn't meet the expected requirements."
   ]
  },
  {
   "cell_type": "code",
   "execution_count": 6,
   "id": "12bc5bd8",
   "metadata": {},
   "outputs": [],
   "source": [
    "# Create a function that takes a dictionary as input, validates it against the UserInput model, and returns either the validated data or the validation errors.\n",
    "def validate_user_input(data: dict):\n",
    "    try:\n",
    "        user_input = UserInput(**data)\n",
    "        print(f\"✅ Valid user input created:\")\n",
    "        #Print out the JSON representation of the validated data with indentation for readability\n",
    "        print(f\"{user_input.model_dump_json(indent=2)}\")\n",
    "        return user_input\n",
    "    except ValidationError as e:\n",
    "        print(f\"❌ Validation errors found:\")\n",
    "        print(f\"{e.json(indent=2)}\")\n",
    "        return e.json()"
   ]
  },
  {
   "cell_type": "markdown",
   "id": "b7d95a01",
   "metadata": {},
   "source": [
    "This is what the data that is returned if there is an error. All elements of this JSON object can be accessed separately."
   ]
  },
  {
   "cell_type": "code",
   "execution_count": 7,
   "id": "878c5890",
   "metadata": {},
   "outputs": [
    {
     "name": "stdout",
     "output_type": "stream",
     "text": [
      "❌ Validation errors found:\n",
      "[\n",
      "  {\n",
      "    \"type\": \"int_parsing\",\n",
      "    \"loc\": [\n",
      "      \"customer_number\"\n",
      "    ],\n",
      "    \"msg\": \"Input should be a valid integer, unable to parse string as an integer\",\n",
      "    \"input\": \"not_a_number\",\n",
      "    \"url\": \"https://errors.pydantic.dev/2.11/v/int_parsing\"\n",
      "  },\n",
      "  {\n",
      "    \"type\": \"value_error\",\n",
      "    \"loc\": [\n",
      "      \"email\"\n",
      "    ],\n",
      "    \"msg\": \"value is not a valid email address: An email address must have an @-sign.\",\n",
      "    \"input\": \"invalid_email\",\n",
      "    \"ctx\": {\n",
      "      \"reason\": \"An email address must have an @-sign.\"\n",
      "    },\n",
      "    \"url\": \"https://errors.pydantic.dev/2.11/v/value_error\"\n",
      "  },\n",
      "  {\n",
      "    \"type\": \"string_type\",\n",
      "    \"loc\": [\n",
      "      \"issue_description\"\n",
      "    ],\n",
      "    \"msg\": \"Input should be a valid string\",\n",
      "    \"input\": 6,\n",
      "    \"url\": \"https://errors.pydantic.dev/2.11/v/string_type\"\n",
      "  }\n",
      "]\n"
     ]
    },
    {
     "data": {
      "text/plain": [
       "'[{\"type\":\"int_parsing\",\"loc\":[\"customer_number\"],\"msg\":\"Input should be a valid integer, unable to parse string as an integer\",\"input\":\"not_a_number\",\"url\":\"https://errors.pydantic.dev/2.11/v/int_parsing\"},{\"type\":\"value_error\",\"loc\":[\"email\"],\"msg\":\"value is not a valid email address: An email address must have an @-sign.\",\"input\":\"invalid_email\",\"ctx\":{\"reason\":\"An email address must have an @-sign.\"},\"url\":\"https://errors.pydantic.dev/2.11/v/value_error\"},{\"type\":\"string_type\",\"loc\":[\"issue_description\"],\"msg\":\"Input should be a valid string\",\"input\":6,\"url\":\"https://errors.pydantic.dev/2.11/v/string_type\"}]'"
      ]
     },
     "execution_count": 7,
     "metadata": {},
     "output_type": "execute_result"
    }
   ],
   "source": [
    "#Try to validate invalid data\n",
    "validate_user_input(invalid_data)"
   ]
  },
  {
   "cell_type": "markdown",
   "id": "967ec5ee",
   "metadata": {
    "vscode": {
     "languageId": "markdown"
    }
   },
   "source": [
    "In the following cell, I'll check how Pydantic handles cases where required fields are missing from the user input data. This is a common scenario in real-world applications, where users may forget to provide all necessary information. "
   ]
  },
  {
   "cell_type": "code",
   "execution_count": 8,
   "id": "e6e237ec",
   "metadata": {},
   "outputs": [],
   "source": [
    "#Create invalid data with a missing field\n",
    "incomplete_data = {\n",
    "    \"customer_number\": 67890,\n",
    "    \"issue_description\": \"My order hasn't arrived yet.\"\n",
    "}"
   ]
  },
  {
   "cell_type": "markdown",
   "id": "fabda148",
   "metadata": {},
   "source": [
    "And again we get some useful data about the error."
   ]
  },
  {
   "cell_type": "code",
   "execution_count": 9,
   "id": "039b74a6",
   "metadata": {},
   "outputs": [
    {
     "name": "stdout",
     "output_type": "stream",
     "text": [
      "❌ Validation errors found:\n",
      "[\n",
      "  {\n",
      "    \"type\": \"missing\",\n",
      "    \"loc\": [\n",
      "      \"email\"\n",
      "    ],\n",
      "    \"msg\": \"Field required\",\n",
      "    \"input\": {\n",
      "      \"customer_number\": 67890,\n",
      "      \"issue_description\": \"My order hasn't arrived yet.\"\n",
      "    },\n",
      "    \"url\": \"https://errors.pydantic.dev/2.11/v/missing\"\n",
      "  }\n",
      "]\n"
     ]
    },
    {
     "data": {
      "text/plain": [
       "'[{\"type\":\"missing\",\"loc\":[\"email\"],\"msg\":\"Field required\",\"input\":{\"customer_number\":67890,\"issue_description\":\"My order hasn\\'t arrived yet.\"},\"url\":\"https://errors.pydantic.dev/2.11/v/missing\"}]'"
      ]
     },
     "execution_count": 9,
     "metadata": {},
     "output_type": "execute_result"
    }
   ],
   "source": [
    "# Try validating the incomplete data\n",
    "validate_user_input(incomplete_data)"
   ]
  },
  {
   "cell_type": "markdown",
   "id": "a00f4a16",
   "metadata": {
    "vscode": {
     "languageId": "markdown"
    }
   },
   "source": [
    "In the next cell, I'll explore how Pydantic handles user input data that contains unexpected or extra fields not defined in the model. This is a common scenario when working with real-world data, where users or external systems might send additional information. I'll demonstrate how Pydantic validates the known fields and gracefully ignores any extra fields, ensuring that only the expected data is processed by the application."
   ]
  },
  {
   "cell_type": "code",
   "execution_count": 10,
   "id": "49d2f92b",
   "metadata": {},
   "outputs": [],
   "source": [
    "# Create sample data with additional unexpected fields\n",
    "extra_data = {\n",
    "    \"customer_number\": 54321,\n",
    "    \"email\": \"extra@example.com\",\n",
    "    \"issue_description\": \"I have an extra field.\",\n",
    "    \"unexpected_field\": \"This field is not defined in the model.\"\n",
    "}"
   ]
  },
  {
   "cell_type": "code",
   "execution_count": 11,
   "id": "0432330c",
   "metadata": {},
   "outputs": [
    {
     "name": "stdout",
     "output_type": "stream",
     "text": [
      "✅ Valid user input created:\n",
      "{\n",
      "  \"customer_number\": 54321,\n",
      "  \"email\": \"extra@example.com\",\n",
      "  \"issue_description\": \"I have an extra field.\"\n",
      "}\n"
     ]
    },
    {
     "data": {
      "text/plain": [
       "UserInput(customer_number=54321, email='extra@example.com', issue_description='I have an extra field.')"
      ]
     },
     "execution_count": 11,
     "metadata": {},
     "output_type": "execute_result"
    }
   ],
   "source": [
    "# Validate the extra data (validated data will not include the extra field)\n",
    "validate_user_input(extra_data)"
   ]
  },
  {
   "cell_type": "markdown",
   "id": "9c4a94f9",
   "metadata": {
    "vscode": {
     "languageId": "markdown"
    }
   },
   "source": [
    "As the next step, I'll enhance the user input validation model to include additional fields relevant to customer support scenarios, such as an optional order ID and transaction date. By specifying constraints and descriptions for these fields, I can ensure that the data collected is both accurate and meaningful. This approach demonstrates how Pydantic models can be easily extended to accommodate evolving requirements while maintaining robust data validation. Pydantic also allows for the use of custom functions (field validators) which I'll experiment with later."
   ]
  },
  {
   "cell_type": "code",
   "execution_count": 12,
   "id": "9c9f813e",
   "metadata": {},
   "outputs": [],
   "source": [
    "# Enhanced input model \n",
    "class UserInput(BaseModel):\n",
    "    customer_number: int\n",
    "    email: EmailStr\n",
    "    issue_description: str\n",
    "    order_id: Optional[int] = Field(\n",
    "        #Default is None\n",
    "        None,\n",
    "        description=\"5-digit order number (cannot start with 0)\",\n",
    "        # Greater than or equal to 10000 and less than or equal to 99999\n",
    "        ge=10000,\n",
    "        le=99999\n",
    "    )\n",
    "    transaction_date: Optional[date] = None"
   ]
  },
  {
   "cell_type": "markdown",
   "id": "e9267448",
   "metadata": {},
   "source": [
    "I can then test the enhanced model with valid data."
   ]
  },
  {
   "cell_type": "code",
   "execution_count": 13,
   "id": "936a7da5",
   "metadata": {},
   "outputs": [
    {
     "name": "stdout",
     "output_type": "stream",
     "text": [
      "✅ Valid user input created:\n",
      "{\n",
      "  \"customer_number\": 11223,\n",
      "  \"email\": \"valid@example.com\",\n",
      "  \"issue_description\": \"My order hasn't arrived yet.\",\n",
      "  \"order_id\": 12345,\n",
      "  \"transaction_date\": \"2023-10-01\"\n",
      "}\n"
     ]
    },
    {
     "data": {
      "text/plain": [
       "UserInput(customer_number=11223, email='valid@example.com', issue_description=\"My order hasn't arrived yet.\", order_id=12345, transaction_date=datetime.date(2023, 10, 1))"
      ]
     },
     "execution_count": 13,
     "metadata": {},
     "output_type": "execute_result"
    }
   ],
   "source": [
    "# Test the enhanced model with valid data\n",
    "valid_enhanced_data = {\n",
    "    \"customer_number\": 11223,\n",
    "    \"email\": \"  valid@example.com  \",\n",
    "    \"issue_description\": \"My order hasn't arrived yet.\",\n",
    "    \"order_id\": 12345,\n",
    "    \"transaction_date\": \"2023-10-01\"\n",
    "}\n",
    "\n",
    "validate_user_input(valid_enhanced_data)"
   ]
  },
  {
   "cell_type": "code",
   "execution_count": 14,
   "id": "b704b792",
   "metadata": {},
   "outputs": [
    {
     "name": "stdout",
     "output_type": "stream",
     "text": [
      "✅ Valid user input created:\n",
      "{\n",
      "  \"customer_number\": 11223,\n",
      "  \"email\": \"valid@example.com\",\n",
      "  \"issue_description\": \"My order hasn't arrived yet.\",\n",
      "  \"order_id\": null,\n",
      "  \"transaction_date\": null\n",
      "}\n"
     ]
    },
    {
     "data": {
      "text/plain": [
       "UserInput(customer_number=11223, email='valid@example.com', issue_description=\"My order hasn't arrived yet.\", order_id=None, transaction_date=None)"
      ]
     },
     "execution_count": 14,
     "metadata": {},
     "output_type": "execute_result"
    }
   ],
   "source": [
    "valid_enhanced_data_short = {\n",
    "    \"customer_number\": 11223,\n",
    "    \"email\": \"  valid@example.com  \",\n",
    "    \"issue_description\": \"My order hasn't arrived yet.\"\n",
    "}\n",
    "\n",
    "validate_user_input(valid_enhanced_data_short)"
   ]
  },
  {
   "cell_type": "code",
   "execution_count": 15,
   "id": "b73a7c0a",
   "metadata": {},
   "outputs": [
    {
     "name": "stdout",
     "output_type": "stream",
     "text": [
      "✅ Valid user input created:\n",
      "{\n",
      "  \"customer_number\": 11223,\n",
      "  \"email\": \"valid@example.com\",\n",
      "  \"issue_description\": \"My order hasn't arrived yet.\",\n",
      "  \"order_id\": 12345,\n",
      "  \"transaction_date\": \"2023-10-01\"\n",
      "}\n",
      "customer_number=11223 email='valid@example.com' issue_description=\"My order hasn't arrived yet.\" order_id=12345 transaction_date=datetime.date(2023, 10, 1)\n"
     ]
    }
   ],
   "source": [
    "#Inspect validated data structure\n",
    "validated_data = validate_user_input(valid_enhanced_data)\n",
    "print(validated_data)"
   ]
  },
  {
   "cell_type": "markdown",
   "id": "f7cefcf3",
   "metadata": {
    "vscode": {
     "languageId": "markdown"
    }
   },
   "source": [
    "### Validating JSON data.\n",
    "\n",
    "In the following cell, I'll demonstrate how to handle user input data provided in JSON format. This is a common scenario when integrating with web APIs or front-end applications, where data is often exchanged as JSON strings. I'll show how to parse the JSON string into a Python dictionary and then validate it using the Pydantic model, ensuring that the data meets all required constraints before further processing."
   ]
  },
  {
   "cell_type": "code",
   "execution_count": 16,
   "id": "6dcbc54c",
   "metadata": {},
   "outputs": [
    {
     "name": "stdout",
     "output_type": "stream",
     "text": [
      "Parsed JSON: {'customer_number': 33445, 'email': '  valid@example.com  ', 'issue_description': \"My order hasn't arrived yet.\", 'order_id': 12345, 'transaction_date': '2023-10-01'}\n",
      "✅ Valid user input created:\n",
      "{\n",
      "  \"customer_number\": 33445,\n",
      "  \"email\": \"valid@example.com\",\n",
      "  \"issue_description\": \"My order hasn't arrived yet.\",\n",
      "  \"order_id\": 12345,\n",
      "  \"transaction_date\": \"2023-10-01\"\n",
      "}\n"
     ]
    },
    {
     "data": {
      "text/plain": [
       "UserInput(customer_number=33445, email='valid@example.com', issue_description=\"My order hasn't arrived yet.\", order_id=12345, transaction_date=datetime.date(2023, 10, 1))"
      ]
     },
     "execution_count": 16,
     "metadata": {},
     "output_type": "execute_result"
    }
   ],
   "source": [
    "# What if the valid data is in JSON format?\n",
    "valid_json_data = '''{\n",
    "    \"customer_number\": 33445,\n",
    "    \"email\": \"  valid@example.com  \",\n",
    "    \"issue_description\": \"My order hasn't arrived yet.\",\n",
    "    \"order_id\": 12345,\n",
    "    \"transaction_date\": \"2023-10-01\"\n",
    "}'''\n",
    "# Parse the JSON string into a Python dictionary that can be used as an argument in the validation function\n",
    "data_dict = json.loads(valid_json_data)\n",
    "print(\"Parsed JSON:\", data_dict)\n",
    "# Validate the parsed data\n",
    "validate_user_input(data_dict)"
   ]
  },
  {
   "cell_type": "markdown",
   "id": "7d02dc4f",
   "metadata": {},
   "source": [
    "I'll also try validating invalid JSON data in the next step. "
   ]
  },
  {
   "cell_type": "code",
   "execution_count": 17,
   "id": "aadd91e9",
   "metadata": {},
   "outputs": [
    {
     "name": "stdout",
     "output_type": "stream",
     "text": [
      "Parsed JSON: {'customer_number': 'not_a_number', 'email': 'invalid_email', 'issue_description': 6}\n",
      "❌ Validation errors found:\n",
      "[\n",
      "  {\n",
      "    \"type\": \"int_parsing\",\n",
      "    \"loc\": [\n",
      "      \"customer_number\"\n",
      "    ],\n",
      "    \"msg\": \"Input should be a valid integer, unable to parse string as an integer\",\n",
      "    \"input\": \"not_a_number\",\n",
      "    \"url\": \"https://errors.pydantic.dev/2.11/v/int_parsing\"\n",
      "  },\n",
      "  {\n",
      "    \"type\": \"value_error\",\n",
      "    \"loc\": [\n",
      "      \"email\"\n",
      "    ],\n",
      "    \"msg\": \"value is not a valid email address: An email address must have an @-sign.\",\n",
      "    \"input\": \"invalid_email\",\n",
      "    \"ctx\": {\n",
      "      \"reason\": \"An email address must have an @-sign.\"\n",
      "    },\n",
      "    \"url\": \"https://errors.pydantic.dev/2.11/v/value_error\"\n",
      "  },\n",
      "  {\n",
      "    \"type\": \"string_type\",\n",
      "    \"loc\": [\n",
      "      \"issue_description\"\n",
      "    ],\n",
      "    \"msg\": \"Input should be a valid string\",\n",
      "    \"input\": 6,\n",
      "    \"url\": \"https://errors.pydantic.dev/2.11/v/string_type\"\n",
      "  }\n",
      "]\n"
     ]
    },
    {
     "data": {
      "text/plain": [
       "'[{\"type\":\"int_parsing\",\"loc\":[\"customer_number\"],\"msg\":\"Input should be a valid integer, unable to parse string as an integer\",\"input\":\"not_a_number\",\"url\":\"https://errors.pydantic.dev/2.11/v/int_parsing\"},{\"type\":\"value_error\",\"loc\":[\"email\"],\"msg\":\"value is not a valid email address: An email address must have an @-sign.\",\"input\":\"invalid_email\",\"ctx\":{\"reason\":\"An email address must have an @-sign.\"},\"url\":\"https://errors.pydantic.dev/2.11/v/value_error\"},{\"type\":\"string_type\",\"loc\":[\"issue_description\"],\"msg\":\"Input should be a valid string\",\"input\":6,\"url\":\"https://errors.pydantic.dev/2.11/v/string_type\"}]'"
      ]
     },
     "execution_count": 17,
     "metadata": {},
     "output_type": "execute_result"
    }
   ],
   "source": [
    "# Try invalid JSON data\n",
    "invalid_json_data = '''{\n",
    "    \"customer_number\": \"not_a_number\",\n",
    "    \"email\": \"invalid_email\",\n",
    "    \"issue_description\": 6\n",
    "}'''\n",
    "# Parse the invalid JSON string into a Python dictionary\n",
    "data_dict = json.loads(invalid_json_data)\n",
    "print(\"Parsed JSON:\", data_dict)\n",
    "# Validate the parsed data\n",
    "validate_user_input(data_dict)"
   ]
  },
  {
   "cell_type": "markdown",
   "id": "39e91b88",
   "metadata": {
    "vscode": {
     "languageId": "markdown"
    }
   },
   "source": [
    "All of these steps can be rolled into a single function that helps to validate user data:"
   ]
  },
  {
   "cell_type": "code",
   "execution_count": 18,
   "id": "d992d984",
   "metadata": {},
   "outputs": [],
   "source": [
    "#| code-fold: false\n",
    "\n",
    "# Use the model_validate_json method to validate JSON data directly\n",
    "def validate_user_input_json(json_data: str):\n",
    "    try:\n",
    "        #This is a Pydantic v2 method to validate JSON data directly\n",
    "        user_input = UserInput.model_validate_json(json_data)\n",
    "        print(f\"✅ Valid user input created:\")\n",
    "        print(f\"{user_input.model_dump_json(indent=2)}\")\n",
    "        return user_input\n",
    "    except ValidationError as e:\n",
    "        print(f\"❌ Validation errors found:\")\n",
    "        print(f\"{e.json(indent=2)}\")\n",
    "        return e.json()"
   ]
  },
  {
   "cell_type": "markdown",
   "id": "20f0e5cd",
   "metadata": {
    "vscode": {
     "languageId": "markdown"
    }
   },
   "source": [
    "## Validation user input with Pydantic - some thoughts\n",
    "\n",
    "The Pydantic package offers a powerful and flexible approach to data validation in Python. By defining clear models, we can ensure that incoming data meets expected formats, catch errors early, and provide meaningful feedback to users or downstream processes.\n",
    "\n",
    "Pydantic's ability to handle various scenarios—such as missing fields, invalid types, extra data, and direct JSON validation—makes it a very useful tool. Pydantic also simplifies error handling.\n",
    "\n",
    "Next, I'll try using Pydantic with LLM APIs to get structured responses. "
   ]
  }
 ],
 "metadata": {
  "kernelspec": {
   "display_name": ".venv (3.13.2)",
   "language": "python",
   "name": "python3"
  },
  "language_info": {
   "codemirror_mode": {
    "name": "ipython",
    "version": 3
   },
   "file_extension": ".py",
   "mimetype": "text/x-python",
   "name": "python",
   "nbconvert_exporter": "python",
   "pygments_lexer": "ipython3",
   "version": "3.13.2"
  }
 },
 "nbformat": 4,
 "nbformat_minor": 5
}
