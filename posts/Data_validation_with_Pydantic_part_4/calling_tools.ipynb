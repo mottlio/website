{
 "cells": [
  {
   "cell_type": "raw",
   "id": "f2b2a355",
   "metadata": {
    "vscode": {
     "languageId": "raw"
    }
   },
   "source": [
    "---\n",
    "title: \"Pydantic validation for LLM tool calling - Part 4\"\n",
    "subtitle: \"When LLMs call external tools, how to ensure the input to those external functions is valid?\"\n",
    "date: '2025-03-14'\n",
    "categories: ['Python', 'Pydantic', 'Data Validation', 'LLMs']\n",
    "format:\n",
    "  html:\n",
    "    code-fold: true\n",
    "    code-summary: \"Show code\"\n",
    "    code-tools: true\n",
    "    panel: tabset\n",
    "    renderings: dark\n",
    "    comments:\n",
    "      utterances:\n",
    "        repo: mottlio/using_pydantic_with_llms\n",
    "---"
   ]
  },
  {
   "cell_type": "markdown",
   "id": "589e311d",
   "metadata": {},
   "source": [
    "# Data validation for LLM tool calling"
   ]
  },
  {
   "cell_type": "markdown",
   "id": "b1951a6f",
   "metadata": {},
   "source": [
    "Structured responses from LLM APIs and tool calling are the two key use cases for Pydantic in the context of LLMs. \n",
    "\n",
    "Tool calling (or function calling) is a way of connecting an external LLM to other APIs - a piece of functionality we may give the model access to in order to generate a response to a prompt. \n",
    "\n",
    "We could give the model access to tools that:\n",
    "\n",
    "    - Get today's weather for a location (external API)\n",
    "    - Access account details for a given user ID\n",
    "    - Issue refunds for a lost order\n",
    "\n",
    "or any other source that we would like the model to pull additional context information from when responding to a prompt.\n",
    "\n",
    "The way this process works is illustrated on the diagram below:\n",
    "\n",
    "![AI tool use process](function-calling-diagram-steps.png)"
   ]
  },
  {
   "cell_type": "markdown",
   "id": "626d6072",
   "metadata": {},
   "source": [
    "When tools are available, the model examines a prompt, and then may determine that in order to follow the instructions in the prompt, it needs to call one of the tools made available to it.\n",
    "\n",
    "When calling these tools (making an API call) data needs to be in the correct, valid format.\n",
    "\n",
    "I'll use Pydantic to validate data at the following stages: obtaining user input, classifying user input and dteremining if an external tool needs to be used (a function searching through the Q&A database and a function searching through the order details), obtaining a response from the tool and obtaining the final response from a second LLM API call."
   ]
  },
  {
   "cell_type": "code",
   "execution_count": null,
   "id": "602fecb1",
   "metadata": {},
   "outputs": [],
   "source": [
    "#| code-summary: \"Import all required libraries\"\n",
    "# Import packages\n",
    "from pydantic import BaseModel, Field, EmailStr, field_validator\n",
    "from pydantic_ai import Agent\n",
    "from typing import Literal, List, Optional\n",
    "from datetime import datetime, date\n",
    "import json\n",
    "from openai import OpenAI\n",
    "import anthropic\n",
    "import instructor\n",
    "from dotenv import load_dotenv\n",
    "load_dotenv()\n",
    "import nest_asyncio\n",
    "nest_asyncio.apply()"
   ]
  },
  {
   "cell_type": "markdown",
   "id": "3a086752",
   "metadata": {},
   "source": [
    "Define a Pydantic model using the typing library. Here, I'll test a special field_validator function to check the format of the 'order_id' field using regular expressions. The order_id should be three letters followed by a hyphen and five digits."
   ]
  },
  {
   "cell_type": "code",
   "execution_count": null,
   "id": "13ca8114",
   "metadata": {},
   "outputs": [],
   "source": [
    "#| code-fold: false\n",
    "# Define your UserInput model\n",
    "class UserInput(BaseModel):\n",
    "    name: str = Field(..., description=\"User's name\")\n",
    "    email: EmailStr = Field(..., description=\"User's email address\")\n",
    "    query: str = Field(..., description=\"User's query\")\n",
    "    order_id: Optional[str] = Field(\n",
    "        None,\n",
    "        description=\"Order ID if available (format: ABC-12345)\"\n",
    "    )\n",
    "    # Validate order_id format (e.g., ABC-12345)\n",
    "    @field_validator(\"order_id\")\n",
    "    def validate_order_id(cls, order_id):\n",
    "        import re\n",
    "        if order_id is None:\n",
    "            return order_id\n",
    "        pattern = r\"^[A-Z]{3}-\\d{5}$\"\n",
    "        if not re.match(pattern, order_id):\n",
    "            raise ValueError(\n",
    "                \"order_id must be in format ABC-12345 \"\n",
    "                \"(3 uppercase letters, dash, 5 digits)\"\n",
    "            )\n",
    "        return order_id\n",
    "    purchase_date: Optional[date] = None\n"
   ]
  },
  {
   "cell_type": "markdown",
   "id": "11d7ccc4",
   "metadata": {},
   "source": [
    "Define a CustomerQuery Pydantic model that inherits from the UserInput model - ie. it contains all the fields in the UserInput model plus some new ones."
   ]
  },
  {
   "cell_type": "code",
   "execution_count": null,
   "id": "e1ce8229",
   "metadata": {},
   "outputs": [],
   "source": [
    "#| code-fold: false\n",
    "# Define your CustomerQuery model\n",
    "class CustomerQuery(UserInput):\n",
    "    priority: str = Field(\n",
    "        ..., description=\"Priority level: low, medium, high\"\n",
    "    )\n",
    "    category: Literal[\n",
    "        'refund_request', 'information_request', 'other'\n",
    "    ] = Field(..., description=\"Query category\")\n",
    "    is_complaint: bool = Field(\n",
    "        ..., description=\"Whether this is a complaint\"\n",
    "    )\n",
    "    tags: List[str] = Field(..., description=\"Relevant keyword tags\")"
   ]
  },
  {
   "cell_type": "markdown",
   "id": "a446b393",
   "metadata": {},
   "source": [
    "Data validation steps in a project where user input (question, comment, feedback) is passed to an LLM given access to tools.\n",
    "![Validation flow](diagram_1.png) "
   ]
  },
  {
   "cell_type": "code",
   "execution_count": null,
   "id": "64a62571",
   "metadata": {},
   "outputs": [],
   "source": [
    "#| code-summary: \"Function to validate user input\"\n",
    "# Define a function to validate user input (1st step in the diagram above) - no LLMs involved...\n",
    "def validate_user_input(user_json: str):\n",
    "    \"\"\"Validate user input from a JSON string and return a UserInput \n",
    "    instance if valid.\"\"\"\n",
    "    try:\n",
    "        user_input = (\n",
    "            UserInput.model_validate_json(user_json)\n",
    "        )\n",
    "        print(\"user input validated...\")\n",
    "        return user_input\n",
    "    except Exception as e:\n",
    "        print(f\" Unexpected error: {e}\")\n",
    "        return None"
   ]
  },
  {
   "cell_type": "code",
   "execution_count": null,
   "id": "16658ac8",
   "metadata": {},
   "outputs": [],
   "source": [
    "#| code-summary: \"Function to create CustomerQuery using LLM\"\n",
    "# Define a function to call an LLM using Pydantic AI to create an instance of CustomerQuery. It takes user input in valid JSON format as input. It outputs an instance of CustomerQuery.\n",
    "# LLM populates the additional fields in CustomerQuery based on the initial user input.\n",
    "def create_customer_query(valid_user_json: str) -> CustomerQuery:\n",
    "    customer_query_agent = Agent(\n",
    "        model=\"google-gla:gemini-2.0-flash\",\n",
    "        output_type=CustomerQuery,\n",
    "    )\n",
    "    response = customer_query_agent.run_sync(valid_user_json)\n",
    "    print(\"CustomerQuery generated...\")\n",
    "    return response.output"
   ]
  },
  {
   "cell_type": "markdown",
   "id": "a408dfdc",
   "metadata": {},
   "source": [
    "Try out user input validation on sample data"
   ]
  },
  {
   "cell_type": "markdown",
   "id": "95c1b1ce",
   "metadata": {},
   "source": [
    "::: {.panel-tabset}\n",
    "### Sample validation\n",
    "{{< contents ex1-code >}}\n",
    "\n",
    "### Result\n",
    "{{< contents ex1 >}}\n",
    ":::\n"
   ]
  },
  {
   "cell_type": "code",
   "execution_count": null,
   "id": "a88ba251",
   "metadata": {},
   "outputs": [
    {
     "name": "stdout",
     "output_type": "stream",
     "text": [
      "user input validated...\n",
      "CustomerQuery generated...\n",
      "<class '__main__.CustomerQuery'>\n",
      "{\n",
      "  \"name\": \"Aga Mucha\",\n",
      "  \"email\": \"aga.mucha@interia.pl\",\n",
      "  \"query\": \"When can I expect delivery of the headphones I ordered?\",\n",
      "  \"order_id\": \"ABC-12345\",\n",
      "  \"purchase_date\": \"2025-02-01\",\n",
      "  \"priority\": \"medium\",\n",
      "  \"category\": \"information_request\",\n",
      "  \"is_complaint\": false,\n",
      "  \"tags\": [\n",
      "    \"delivery\",\n",
      "    \"headphones\"\n",
      "  ]\n",
      "}\n"
     ]
    }
   ],
   "source": [
    "#| label: ex1-code\n",
    "#| eval: false\n",
    "#| echo: fenced\n",
    "# Define user input JSON data\n",
    "user_input_json = '''\n",
    "{\n",
    "    \"name\": \"Aga Mucha\",\n",
    "    \"email\": \"aga.mucha@interia.pl\",\n",
    "    \"query\": \"When can I expect delivery of the headphones I ordered?\",\n",
    "    \"order_id\": \"ABC-12345\",\n",
    "    \"purchase_date\": \"2025-02-01\"\n",
    "}\n",
    "'''\n",
    "# Validate user input and create a CustomerQuery\n",
    "valid_data = validate_user_input(user_input_json).model_dump_json()\n",
    "customer_query = create_customer_query(valid_data)\n",
    "print(type(customer_query))\n",
    "print(customer_query.model_dump_json(indent=2))"
   ]
  },
  {
   "cell_type": "code",
   "execution_count": null,
   "id": "feabe04b",
   "metadata": {},
   "outputs": [],
   "source": [
    "#| label: ex1\n",
    "#| echo: false\n",
    "# Define user input JSON data\n",
    "user_input_json = '''\n",
    "{\n",
    "    \"name\": \"Aga Mucha\",\n",
    "    \"email\": \"aga.mucha@interia.pl\",\n",
    "    \"query\": \"When can I expect delivery of the headphones I ordered?\",\n",
    "    \"order_id\": \"ABC-12345\",\n",
    "    \"purchase_date\": \"2025-02-01\"\n",
    "}\n",
    "'''\n",
    "# Validate user input and create a CustomerQuery\n",
    "valid_data = validate_user_input(user_input_json).model_dump_json()\n",
    "customer_query = create_customer_query(valid_data)\n",
    "print(type(customer_query))\n",
    "print(customer_query.model_dump_json(indent=2))"
   ]
  },
  {
   "cell_type": "markdown",
   "id": "787d0436",
   "metadata": {},
   "source": [
    "I'll be using a Q&A search tool. It will take two arguments: query and tags (a list of tags). I'll define a Pydantic model representing the expected format of the data."
   ]
  },
  {
   "cell_type": "code",
   "execution_count": null,
   "id": "afdaea89",
   "metadata": {},
   "outputs": [],
   "source": [
    "#| code-fold: false\n",
    "# Define FAQ Lookup tool input as a Pydantic model\n",
    "class FAQLookupArgs(BaseModel):\n",
    "    query: str = Field(..., description=\"User's query\") \n",
    "    tags: List[str] = Field(\n",
    "        ..., description=\"Relevant keyword tags from the customer query\"\n",
    "    )"
   ]
  },
  {
   "cell_type": "markdown",
   "id": "d68e3758",
   "metadata": {},
   "source": [
    "I'll also use a second tool that checks the status of an order. I'll define a Pydantic model for that as well."
   ]
  },
  {
   "cell_type": "code",
   "execution_count": 16,
   "id": "62cc9691",
   "metadata": {},
   "outputs": [],
   "source": [
    "# Define Check Order Status tool input as a Pydantic model\n",
    "class CheckOrderStatusArgs(BaseModel):\n",
    "    order_id: str = Field(\n",
    "        ..., description=\"Customer's order ID (format: ABC-12345)\"\n",
    "    )\n",
    "    email: EmailStr = Field(..., description=\"Customer's email address\")\n",
    "    #Custom validation in a Pydantic model \n",
    "    @field_validator(\"order_id\")\n",
    "    #This method validates the order_id format (e.g., ABC-12345) - it can be used for other things - like preventing SQL injections or XSS attacks\n",
    "    def validate_order_id(order_id):\n",
    "        import re\n",
    "        pattern = r\"^[A-Z]{3}-\\d{5}$\"\n",
    "        if not re.match(pattern, order_id):\n",
    "            raise ValueError(\n",
    "                \"order_id must be in format ABC-12345 \"\n",
    "                \"(3 uppercase letters, dash, 5 digits)\"\n",
    "            )\n",
    "        return order_id"
   ]
  },
  {
   "cell_type": "markdown",
   "id": "6db17408",
   "metadata": {},
   "source": [
    "I'll create a sample Q&A database and a sample order database - a very simple Python dictionary."
   ]
  },
  {
   "cell_type": "code",
   "execution_count": null,
   "id": "2dd04f45",
   "metadata": {},
   "outputs": [],
   "source": [
    "#| code-summary: \"Sample FAQ and Order databases\"\n",
    "# Create a sample Q&A list with the question, answer and keywords fields\n",
    "sample_faq = [\n",
    "    {\n",
    "        \"question\": \"What is the return policy?\",\n",
    "        \"answer\": (\n",
    "            \"You can return most items within 30 days of delivery \"\n",
    "            \"for a full refund.\"\n",
    "        ),\n",
    "        \"keywords\": [\"return\", \"refund\", \"policy\"]\n",
    "    },\n",
    "    {\n",
    "        \"question\": \"How long does shipping take?\",\n",
    "        \"answer\": (\n",
    "            \"Standard shipping usually takes 5-7 business days. \"\n",
    "            \"Expedited options are available at checkout.\"\n",
    "        ),\n",
    "        \"keywords\": [\"shipping\", \"delivery\", \"time\"]\n",
    "    },\n",
    "    {\n",
    "        \"question\": \"How can I track my order?\",\n",
    "        \"answer\": (\n",
    "            \"Once your order ships, you'll receive an email with \"\n",
    "            \"tracking information.\"\n",
    "        ),\n",
    "        \"keywords\": [\"track\", \"order\", \"tracking\"]\n",
    "    },\n",
    "    {\n",
    "        \"question\": \"Can I change my shipping address?\",\n",
    "        \"answer\": (\n",
    "            \"You can change your shipping address before your order \"\n",
    "            \"ships by contacting customer support.\"\n",
    "        ),\n",
    "        \"keywords\": [\"change\", \"shipping\", \"address\"]\n",
    "    },\n",
    "    {\n",
    "        \"question\": \"What payment methods do you accept?\",\n",
    "        \"answer\": (\n",
    "            \"We accept Visa, MasterCard, American Express, PayPal, \"\n",
    "            \"and Apple Pay.\"\n",
    "        ),\n",
    "        \"keywords\": [\"payment\", \"methods\", \"accept\"]\n",
    "    }\n",
    "]"
   ]
  },
  {
   "cell_type": "code",
   "execution_count": null,
   "id": "e97afa4c",
   "metadata": {},
   "outputs": [],
   "source": [
    "#| code-summary: \"Sample Order database\"\n",
    "# Create a sample order database with order_id as key and status, purchase_date, estimated_delivery, email as values\n",
    "sample_orders = {\n",
    "    \"ABC-12345\": {\n",
    "        \"status\": \"Shipped\",\n",
    "        \"purchase_date\": \"2025-02-01\",\n",
    "        \"estimated_delivery\": \"2025-02-08\",\n",
    "        \"email\": \"aga.mucha@interia.pl\"\n",
    "    },\n",
    "    \"DEF-67890\": {\n",
    "        \"status\": \"Processing\",\n",
    "        \"purchase_date\": \"2025-02-10\",\n",
    "        \"estimated_delivery\": \"2025-02-15\",\n",
    "        \"email\": \"john.doe@example.com\"\n",
    "    },\n",
    "    \"GHI-54321\": {\n",
    "        \"status\": \"Delivered\",\n",
    "        \"purchase_date\": \"2025-01-25\",\n",
    "        \"estimated_delivery\": \"2025-01-30\",\n",
    "        \"email\": \"jane.smith@example.com\"\n",
    "    },\n",
    "    \"JKL-09876\": {\n",
    "        \"status\": \"Cancelled\",\n",
    "        \"purchase_date\": \"2025-02-05\",\n",
    "        \"estimated_delivery\": \"2025-02-12\",\n",
    "        \"email\": \"bob.johnson@example.com\"\n",
    "    }\n",
    "}\n"
   ]
  },
  {
   "cell_type": "markdown",
   "id": "2d257976",
   "metadata": {},
   "source": [
    "Next, I'll define the two functions that will serve as tools that the LLM will be able to call when responsing to a request (user query)."
   ]
  },
  {
   "cell_type": "code",
   "execution_count": null,
   "id": "cb24a476",
   "metadata": {},
   "outputs": [],
   "source": [
    "|# code-summary: Define a Q&A search tool function\n",
    "# The function takes FAQLookupArgs as input (query string and tags list of strings) and returns the best matching FAQ answer as a string.\n",
    "def lookup_faq_answer(args: FAQLookupArgs) -> str:\n",
    "    \"\"\"Look up an FAQ answer by matching tags and words in query \n",
    "    to FAQ entry keywords.\"\"\"\n",
    "    #I will use a simple keyword matching approach for this example.\n",
    "    # query_words, tag_set, keywords are sets of lowercase words. The score will be calculated based on the length of their intersection (elements in common).\n",
    "    query_words = set(word.lower() for word in args.query.split())\n",
    "    tag_set = set(tag.lower() for tag in args.tags)\n",
    "    best_match = None\n",
    "    best_score = 0\n",
    "    for faq in sample_faq:\n",
    "        keywords = set(k.lower() for k in faq[\"keywords\"])\n",
    "        score = len(keywords & tag_set) + len(keywords & query_words)\n",
    "        if score > best_score:\n",
    "            best_score = score\n",
    "            best_match = faq\n",
    "    if best_match and best_score > 0:\n",
    "        return best_match[\"answer\"]\n",
    "    return \"Sorry, I couldn't find an FAQ answer for your question.\""
   ]
  },
  {
   "cell_type": "code",
   "execution_count": null,
   "id": "35401aa5",
   "metadata": {},
   "outputs": [],
   "source": [
    "#| code-summary: Define your check order status tool\n",
    "# The function takes CheckOrderStatusArgs as input (order_id string and email string) and returns a dictionary with order status information.\n",
    "def check_order_status(args: CheckOrderStatusArgs):\n",
    "    \"\"\"Simulate checking the status of a customer's order by \n",
    "    order_id and email.\"\"\"\n",
    "    order = sample_orders.get(args.order_id)\n",
    "    if not order:\n",
    "        return {\n",
    "            \"order_id\": args.order_id,\n",
    "            \"status\": \"not found\",\n",
    "            \"estimated_delivery\": None,\n",
    "            \"note\": \"order_id not found\"\n",
    "        }\n",
    "    if args.email.lower() != order.get(\"email\", \"\").lower():\n",
    "        return {\n",
    "            \"order_id\": args.order_id,\n",
    "            \"status\": order[\"status\"],\n",
    "            \"estimated_delivery\": order[\"estimated_delivery\"],\n",
    "            \"note\": \"order_id found but email mismatch\"\n",
    "        }\n",
    "    return {\n",
    "        \"order_id\": args.order_id,\n",
    "        \"status\": order[\"status\"],\n",
    "        \"estimated_delivery\": order[\"estimated_delivery\"],\n",
    "        \"note\": \"order_id and email match\"\n",
    "    }"
   ]
  },
  {
   "cell_type": "markdown",
   "id": "ce5ff8f5",
   "metadata": {},
   "source": [
    "In this step, I'll define the tools for the OpenAi tool API call\n",
    "The documentation for the tool calling API is [here](https://platform.openai.com/docs/guides/function-calling?lang=python)"
   ]
  },
  {
   "cell_type": "code",
   "execution_count": null,
   "id": "9e53b6d5",
   "metadata": {},
   "outputs": [],
   "source": [
    "#| code-summary: Define tools for your API call\n",
    "# Parameters should be passed as JSON schema. In our case, we can use the model_json_schema() method from Pydantic models defined above.\n",
    "tool_definitions = [\n",
    "    {\n",
    "        \"type\": \"function\",\n",
    "        \"function\": {\n",
    "            \"name\": \"lookup_faq_answer\",\n",
    "            \"description\": \"Look up an FAQ answer by matching tags to FAQ entry keywords.\",\n",
    "            \"parameters\": FAQLookupArgs.model_json_schema()\n",
    "        }\n",
    "    },\n",
    "    {\n",
    "        \"type\": \"function\",\n",
    "        \"function\": {\n",
    "            \"name\": \"check_order_status\",\n",
    "            \"description\": \"Check the status of a customer's order.\",\n",
    "            \"parameters\": CheckOrderStatusArgs.model_json_schema()\n",
    "        }\n",
    "    }\n",
    "]"
   ]
  },
  {
   "cell_type": "markdown",
   "id": "5c214825",
   "metadata": {},
   "source": [
    "Next, I'll define the format in which order details should be returned by the check_order_status function and the model for the final LLM response. The function lookup_faq_answer returns a simple string so there is no need to define a model."
   ]
  },
  {
   "cell_type": "code",
   "execution_count": null,
   "id": "7d3b2654",
   "metadata": {},
   "outputs": [],
   "source": [
    "#| code-summary: \"Define response models\"\n",
    "# Here I'll define the format in which data should be returned by the LLM when calling a tool\n",
    "\n",
    "#Final output Pydantic models\n",
    "class OrderDetails(BaseModel):\n",
    "    status: str\n",
    "    estimated_delivery: str\n",
    "    note: str\n",
    "\n",
    "#There is no model for the FAQ response - it's just a string\n",
    "\n",
    "#This is the format of the expected response from the LLM to the initial customer query after calling a tool\n",
    "class SupportTicket(CustomerQuery):\n",
    "    recommended_next_action: Literal[\n",
    "        'escalate_to_agent', 'send_faq_response', \n",
    "        'send_order_status', 'no_action_needed'\n",
    "    ] = Field(\n",
    "        ..., description=\"LLM's recommended next action for support\"\n",
    "    )\n",
    "    order_details: Optional[OrderDetails] = Field(\n",
    "        None, description=\"Order details if action is send_order_status\"\n",
    "    )\n",
    "    faq_response: Optional[str] = Field(\n",
    "        None, description=\"FAQ response if action is send_faq_response\"\n",
    "    )\n",
    "    creation_date: datetime = Field(\n",
    "        ..., description=\"Date and time the ticket was created\"\n",
    "    )"
   ]
  },
  {
   "cell_type": "markdown",
   "id": "4d243a2a",
   "metadata": {},
   "source": [
    "In the next step I create a function that accepts the structured initial customer data as a parameter. It returns a response in the format specified by the SupportTicket Pydantic model. That model contains a 'tool_calls' field.\n",
    "\n",
    "This is the first LLM call. It's response will be passed to the second LLM call together with the data returned by the 'tools'."
   ]
  },
  {
   "cell_type": "code",
   "execution_count": null,
   "id": "4ee125ed",
   "metadata": {},
   "outputs": [],
   "source": [
    "#| code-fold: false\n",
    "# Initialize OpenAI client\n",
    "client = OpenAI()\n",
    "\n",
    "# Define a function to call OpenAI with tools\n",
    "def decide_next_action_with_tools(customer_query: CustomerQuery):\n",
    "    #This call will not return a complete support ticket but we'll pass the schema for context so that the LLM knows what fields are expected in the final output\n",
    "    support_ticket_schema = json.dumps(\n",
    "        SupportTicket.model_json_schema(), indent=2\n",
    "    )\n",
    "    system_prompt = f\"\"\"\n",
    "        You are a helpful customer support agent. Your job is to \n",
    "        determine what support action should be taken for the customer, \n",
    "        based on the customer query and the expected fields in the \n",
    "        SupportTicket schema below. If more information on a particular \n",
    "        order_id or FAQ response would be helpful in responding to the \n",
    "        user query and can be obtained by calling a tool, call the \n",
    "        appropriate tool to get that information. If an order_id is \n",
    "        present in the query, always look up the order status to get \n",
    "        more information on the order.\n",
    "\n",
    "        Here is the JSON schema for the SupportTicket model you must \n",
    "        use as context for what information is expected:\n",
    "        {support_ticket_schema}\n",
    "    \"\"\"\n",
    "    messages = [\n",
    "        #The system prompt defines the context and expected output format\n",
    "        {\"role\": \"system\", \"content\": system_prompt},\n",
    "        #I'll pass the structured customer query as the main body of the prompt\n",
    "        {\"role\": \"user\", \"content\": str(customer_query.model_dump())}\n",
    "    ]\n",
    "    response = client.chat.completions.create(\n",
    "        model=\"gpt-4o\",\n",
    "        messages=messages,\n",
    "        #Here I pass the tool definitions and specify that the model should decide when to call a tool\n",
    "        tools=tool_definitions,\n",
    "        tool_choice=\"auto\"\n",
    "    )\n",
    "    message = response.choices[0].message\n",
    "    # If a tool was called, it will be in the tool_calls attribute of the message\n",
    "    tool_calls = getattr(message, \"tool_calls\", None)\n",
    "    #Return the full response, any tool calls made, and the full prompt\n",
    "    return message, tool_calls, messages"
   ]
  },
  {
   "cell_type": "markdown",
   "id": "cdd24a5c",
   "metadata": {},
   "source": [
    "Let's run a trial using a sample customer query!"
   ]
  },
  {
   "cell_type": "markdown",
   "id": "9b2597cc",
   "metadata": {},
   "source": [
    "::: {.panel-tabset}\n",
    "### Call the function\n",
    "{{< contents ex2-code >}}\n",
    "\n",
    "### Response\n",
    "{{< contents ex2 >}}\n",
    ":::\n"
   ]
  },
  {
   "cell_type": "code",
   "execution_count": null,
   "id": "383d392c",
   "metadata": {},
   "outputs": [
    {
     "name": "stdout",
     "output_type": "stream",
     "text": [
      "LLM message:\n",
      " {\n",
      "  \"content\": null,\n",
      "  \"refusal\": null,\n",
      "  \"role\": \"assistant\",\n",
      "  \"annotations\": [],\n",
      "  \"audio\": null,\n",
      "  \"function_call\": null,\n",
      "  \"tool_calls\": [\n",
      "    {\n",
      "      \"id\": \"call_7J3qR2lk1SpZHlqShz54k1yO\",\n",
      "      \"function\": {\n",
      "        \"arguments\": \"{\\\"order_id\\\":\\\"ABC-12345\\\",\\\"email\\\":\\\"aga.mucha@interia.pl\\\"}\",\n",
      "        \"name\": \"check_order_status\"\n",
      "      },\n",
      "      \"type\": \"function\"\n",
      "    }\n",
      "  ]\n",
      "}\n",
      "\n",
      "Tool calls:\n",
      " [\n",
      "  {\n",
      "    \"id\": \"call_7J3qR2lk1SpZHlqShz54k1yO\",\n",
      "    \"function\": {\n",
      "      \"arguments\": \"{\\\"order_id\\\":\\\"ABC-12345\\\",\\\"email\\\":\\\"aga.mucha@interia.pl\\\"}\",\n",
      "      \"name\": \"check_order_status\"\n",
      "    },\n",
      "    \"type\": \"function\"\n",
      "  }\n",
      "]\n"
     ]
    }
   ],
   "source": [
    "#| label: ex2-code\n",
    "#| eval: false\n",
    "#| echo: fenced\n",
    "# Call the decide_next_action_with_tools function\n",
    "message, tool_calls, messages = decide_next_action_with_tools(\n",
    "    customer_query\n",
    ")\n",
    "# Investigate the LLM's outputs before proceeding\n",
    "print(\"LLM message:\\n\", json.dumps(message.model_dump(), indent=2))\n",
    "print(\n",
    "    \"\\nTool calls:\\n\", \n",
    "    json.dumps([call.model_dump() for call in tool_calls], indent=2)\n",
    ")"
   ]
  },
  {
   "cell_type": "code",
   "execution_count": null,
   "id": "415f1347",
   "metadata": {},
   "outputs": [],
   "source": [
    "#| label: ex2\n",
    "#| echo: false\n",
    "# Call the decide_next_action_with_tools function\n",
    "message, tool_calls, messages = decide_next_action_with_tools(\n",
    "    customer_query\n",
    ")\n",
    "# Investigate the LLM's outputs before proceeding\n",
    "print(\"LLM message:\\n\", json.dumps(message.model_dump(), indent=2))\n",
    "print(\n",
    "    \"\\nTool calls:\\n\", \n",
    "    json.dumps([call.model_dump() for call in tool_calls], indent=2)\n",
    ")"
   ]
  },
  {
   "cell_type": "markdown",
   "id": "95e3eeac",
   "metadata": {},
   "source": [
    "The LLM returns a message with no content but with an attribute tool_calls which indicates which tool (function), with which parameters it would like to use.\n",
    "\n",
    "I'll define a function to get tool outputs - no LLMs involved here. The function just inspects existing databases."
   ]
  },
  {
   "cell_type": "code",
   "execution_count": null,
   "id": "80325891",
   "metadata": {},
   "outputs": [
    {
     "name": "stdout",
     "output_type": "stream",
     "text": [
      "Agent requested a call to Check Order Status tool...\n",
      "Check Order Status tool returned {'order_id': 'ABC-12345', 'status': 'Shipped', 'estimated_delivery': '2025-02-08', 'note': 'order_id and email match'}\n",
      "Tool outputs:\n",
      " [\n",
      "  {\n",
      "    \"tool_call_id\": \"call_7J3qR2lk1SpZHlqShz54k1yO\",\n",
      "    \"output\": {\n",
      "      \"order_id\": \"ABC-12345\",\n",
      "      \"status\": \"Shipped\",\n",
      "      \"estimated_delivery\": \"2025-02-08\",\n",
      "      \"note\": \"order_id and email match\"\n",
      "    }\n",
      "  }\n",
      "]\n"
     ]
    }
   ],
   "source": [
    "#| code-summary: \"Define a function to get tool outputs\"\n",
    "# Define a function to get tool outputs - no LLMs involved here. The function just inspects existing databases.\n",
    "def get_tool_outputs(tool_calls):\n",
    "    tool_outputs = []\n",
    "    if tool_calls:\n",
    "        for tool_call in tool_calls:\n",
    "            if tool_call.function.name == \"lookup_faq_answer\":\n",
    "                print(\"Agent requested a call to the Lookup FAQ tool...\")\n",
    "                args = FAQLookupArgs.model_validate_json(\n",
    "                    tool_call.function.arguments\n",
    "                )\n",
    "                result = lookup_faq_answer(args)\n",
    "                tool_outputs.append({\n",
    "                    \"tool_call_id\": tool_call.id, \"output\": result\n",
    "                })\n",
    "                print(f\"Lookup FAQ tool returned {result}\")\n",
    "            elif tool_call.function.name == \"check_order_status\":\n",
    "                print(\"Agent requested a call to Check Order Status tool...\")\n",
    "                args = CheckOrderStatusArgs.model_validate_json(\n",
    "                    tool_call.function.arguments\n",
    "                )\n",
    "                result = check_order_status(args)\n",
    "                tool_outputs.append({\n",
    "                    \"tool_call_id\": tool_call.id, \"output\": result\n",
    "                })\n",
    "                print(f\"Check Order Status tool returned {result}\")\n",
    "    return tool_outputs\n",
    "\n",
    "tool_outputs = get_tool_outputs(tool_calls)\n",
    "\n",
    "# Print tool outputs for inspection\n",
    "print(\"Tool outputs:\\n\", json.dumps(tool_outputs, indent=2))"
   ]
  },
  {
   "cell_type": "markdown",
   "id": "76eb6f13",
   "metadata": {},
   "source": [
    "Next, I'll generate a structured support ticket using Anthropic containing relevant data from the user and from our internal databases. "
   ]
  },
  {
   "cell_type": "code",
   "execution_count": null,
   "id": "efa52736",
   "metadata": {},
   "outputs": [],
   "source": [
    "#| code-fold: false\n",
    "# Create the Anthropic client with Instructor\n",
    "anthropic_client = instructor.from_anthropic(\n",
    "    anthropic.Anthropic()\n",
    ")\n",
    "\n",
    "# Define a function to call Anthropic to generate a support ticket\n",
    "def generate_structured_support_ticket(\n",
    "    #It takes as arguments a structured customer query (output of the first LLM call), the message returned by the first LLM call, and any tool outputs (from the external functions that I defined above)\n",
    "    customer_query: CustomerQuery, message, tool_outputs: list\n",
    "):\n",
    "    tool_results_str = \"\\n\".join([\n",
    "        f\"Tool: {out['tool_call_id']} Output: {json.dumps(out['output'])}\"\n",
    "        for out in tool_outputs\n",
    "    ]) if tool_outputs else \"No tool calls were made.\"\n",
    "    # Concatenate prompt parts into a single string for Anthropic\n",
    "    prompt = f\"\"\"\n",
    "        You are a support agent. Use all information below to \n",
    "        generate a support ticket as a validated Pydantic model.\n",
    "        Customer query: {customer_query.model_dump_json(indent=2)}\n",
    "        LLM message: {str(message.content)}\n",
    "        Tool results: {tool_results_str}\n",
    "    \"\"\"\n",
    "    # Create the message with structured output\n",
    "    response = anthropic_client.messages.create(\n",
    "        model=\"claude-3-7-sonnet-latest\",  \n",
    "        max_tokens=1024,\n",
    "        messages=[\n",
    "            {\n",
    "                \"role\": \"user\", \n",
    "                \"content\": prompt\n",
    "            }\n",
    "        ],\n",
    "        response_model=SupportTicket\n",
    "    )\n",
    "    \n",
    "    support_ticket = response\n",
    "    support_ticket.creation_date = datetime.now()\n",
    "    return support_ticket"
   ]
  },
  {
   "cell_type": "markdown",
   "id": "6003fafe",
   "metadata": {},
   "source": [
    "Let's check if it works..."
   ]
  },
  {
   "cell_type": "code",
   "execution_count": null,
   "id": "cd2d5e07",
   "metadata": {},
   "outputs": [
    {
     "name": "stdout",
     "output_type": "stream",
     "text": [
      "{\n",
      "  \"name\": \"Aga Mucha\",\n",
      "  \"email\": \"aga.mucha@interia.pl\",\n",
      "  \"query\": \"When can I expect delivery of the headphones I ordered?\",\n",
      "  \"order_id\": \"ABC-12345\",\n",
      "  \"purchase_date\": \"2025-02-01\",\n",
      "  \"priority\": \"medium\",\n",
      "  \"category\": \"information_request\",\n",
      "  \"is_complaint\": false,\n",
      "  \"tags\": [\n",
      "    \"delivery\",\n",
      "    \"headphones\"\n",
      "  ],\n",
      "  \"recommended_next_action\": \"send_order_status\",\n",
      "  \"order_details\": {\n",
      "    \"status\": \"Shipped\",\n",
      "    \"estimated_delivery\": \"2025-02-08\",\n",
      "    \"note\": \"order_id and email match\"\n",
      "  },\n",
      "  \"faq_response\": null,\n",
      "  \"creation_date\": \"2025-08-27T18:17:45.646028\"\n",
      "}\n"
     ]
    }
   ],
   "source": [
    "#| code-summary: \"Run the final step of generating a support ticket and print output\"\n",
    "# Run the final step of generating a support ticket and print output\n",
    "support_ticket = generate_structured_support_ticket(\n",
    "    customer_query, message, tool_outputs\n",
    ")\n",
    "print(support_ticket.model_dump_json(indent=2))"
   ]
  },
  {
   "cell_type": "markdown",
   "id": "bb803ce6",
   "metadata": {},
   "source": [
    "Great! This output could be passed to another agent to prepare a draft email.\n",
    "\n",
    "Few more tests..."
   ]
  },
  {
   "cell_type": "code",
   "execution_count": null,
   "id": "411b16e9",
   "metadata": {},
   "outputs": [
    {
     "name": "stdout",
     "output_type": "stream",
     "text": [
      "user input validated...\n",
      "CustomerQuery generated...\n",
      "Agent requested a call to the Lookup FAQ tool...\n",
      "Lookup FAQ tool returned You can return most items within 30 days of delivery for a full refund.\n",
      "{\n",
      "  \"name\": \"John Doe\",\n",
      "  \"email\": \"john.doe@example.com\",\n",
      "  \"query\": \"What is your return policy?\",\n",
      "  \"order_id\": null,\n",
      "  \"purchase_date\": null,\n",
      "  \"priority\": \"low\",\n",
      "  \"category\": \"information_request\",\n",
      "  \"is_complaint\": false,\n",
      "  \"tags\": [\n",
      "    \"return policy\"\n",
      "  ],\n",
      "  \"recommended_next_action\": \"send_faq_response\",\n",
      "  \"order_details\": null,\n",
      "  \"faq_response\": \"You can return most items within 30 days of delivery for a full refund.\",\n",
      "  \"creation_date\": \"2025-08-27T18:17:54.119271\"\n",
      "}\n"
     ]
    }
   ],
   "source": [
    "#| code-summary: \"Test case 1 - FAQ only\"\n",
    "#Generate a few more test cases\n",
    "#Test case 1 - FAQ only\n",
    "user_input_json_2 = '''\n",
    "{\n",
    "    \"name\": \"John Doe\",\n",
    "    \"email\": \"           john.doe@example.com\",\n",
    "    \"query\": \"What is your return policy?\",\n",
    "    \"order_id\": null,\n",
    "    \"purchase_date\": null\n",
    "}\n",
    "'''\n",
    "valid_data_2 = validate_user_input(user_input_json_2).model_dump_json()\n",
    "customer_query_2 = create_customer_query(valid_data_2)\n",
    "message_2, tool_calls_2, messages_2 = decide_next_action_with_tools(\n",
    "    customer_query_2\n",
    ")\n",
    "tool_outputs_2 = get_tool_outputs(tool_calls_2)\n",
    "support_ticket_2 = generate_structured_support_ticket(\n",
    "    customer_query_2, message_2, tool_outputs_2\n",
    ")\n",
    "print(support_ticket_2.model_dump_json(indent=2))"
   ]
  },
  {
   "cell_type": "code",
   "execution_count": null,
   "id": "418b7666",
   "metadata": {},
   "outputs": [
    {
     "name": "stdout",
     "output_type": "stream",
     "text": [
      "user input validated...\n",
      "CustomerQuery generated...\n",
      "Agent requested a call to Check Order Status tool...\n",
      "Check Order Status tool returned {'order_id': 'DEF-67890', 'status': 'Processing', 'estimated_delivery': '2025-02-15', 'note': 'order_id found but email mismatch'}\n",
      "{\n",
      "  \"name\": \"Jane Smith\",\n",
      "  \"email\": \"jane.smith@example.com\",\n",
      "  \"query\": \"What is the status of my order?\",\n",
      "  \"order_id\": \"DEF-67890\",\n",
      "  \"purchase_date\": \"2023-01-01\",\n",
      "  \"priority\": \"medium\",\n",
      "  \"category\": \"information_request\",\n",
      "  \"is_complaint\": false,\n",
      "  \"tags\": [\n",
      "    \"order status\"\n",
      "  ],\n",
      "  \"recommended_next_action\": \"send_order_status\",\n",
      "  \"order_details\": {\n",
      "    \"status\": \"Processing\",\n",
      "    \"estimated_delivery\": \"2025-02-15\",\n",
      "    \"note\": \"order_id found but email mismatch\"\n",
      "  },\n",
      "  \"faq_response\": null,\n",
      "  \"creation_date\": \"2025-08-27T18:19:32.519645\"\n",
      "}\n"
     ]
    }
   ],
   "source": [
    "#| code-summary: \"Test case 2 - Order status only\"\n",
    "#Test case 2 - Order status only\n",
    "user_input_json_3 = '''\n",
    "{\n",
    "    \"name\": \"Jane Smith\",\n",
    "    \"email\": \"           jane.smith@example.com\",\n",
    "    \"query\": \"What is the status of my order?\",\n",
    "    \"order_id\": \"DEF-67890\",\n",
    "    \"purchase_date\": \"2023-01-01\"\n",
    "}\n",
    "'''\n",
    "valid_data_3 = validate_user_input(user_input_json_3).model_dump_json()\n",
    "customer_query_3 = create_customer_query(valid_data_3)\n",
    "message_3, tool_calls_3, messages_3 = decide_next_action_with_tools(\n",
    "    customer_query_3\n",
    ")\n",
    "tool_outputs_3 = get_tool_outputs(tool_calls_3)\n",
    "support_ticket_3 = generate_structured_support_ticket(\n",
    "    customer_query_3, message_3, tool_outputs_3\n",
    ")\n",
    "print(support_ticket_3.model_dump_json(indent=2))"
   ]
  }
 ],
 "metadata": {
  "kernelspec": {
   "display_name": ".venv (3.13.2)",
   "language": "python",
   "name": "python3"
  },
  "language_info": {
   "codemirror_mode": {
    "name": "ipython",
    "version": 3
   },
   "file_extension": ".py",
   "mimetype": "text/x-python",
   "name": "python",
   "nbconvert_exporter": "python",
   "pygments_lexer": "ipython3",
   "version": "3.13.2"
  }
 },
 "nbformat": 4,
 "nbformat_minor": 5
}
